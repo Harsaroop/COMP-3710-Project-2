{
  "cells": [
    {
      "cell_type": "markdown",
      "metadata": {
        "colab_type": "text",
        "id": "view-in-github"
      },
      "source": [
        "<a href=\"https://colab.research.google.com/github/Harsaroop/COMP-3710-Project-2/blob/main/Bias_Correction.ipynb\" target=\"_parent\"><img src=\"https://colab.research.google.com/assets/colab-badge.svg\" alt=\"Open In Colab\"/></a>"
      ]
    },
    {
      "cell_type": "markdown",
      "metadata": {},
      "source": [
        "# Bias Correction"
      ]
    },
    {
      "cell_type": "code",
      "execution_count": 9,
      "metadata": {
        "id": "6A-aJmnARyk1"
      },
      "outputs": [],
      "source": [
        "import math \n",
        "import seaborn as sns\n",
        "import pandas as pd\n",
        "import matplotlib.pyplot as plt\n",
        "from sklearn.linear_model import LinearRegression as LR\n",
        "from sklearn.linear_model import LogisticRegression as LogR\n",
        "from sklearn.svm import SVR\n",
        "import numpy as np\n",
        "from sklearn.model_selection import train_test_split"
      ]
    },
    {
      "cell_type": "code",
      "execution_count": 10,
      "metadata": {
        "colab": {
          "base_uri": "https://localhost:8080/",
          "height": 679
        },
        "id": "k0dGAAo5SI8a",
        "outputId": "c9326cff-ca39-4cc4-c643-5fc4b8a0edef"
      },
      "outputs": [
        {
          "data": {
            "text/html": [
              "<div>\n",
              "<style scoped>\n",
              "    .dataframe tbody tr th:only-of-type {\n",
              "        vertical-align: middle;\n",
              "    }\n",
              "\n",
              "    .dataframe tbody tr th {\n",
              "        vertical-align: top;\n",
              "    }\n",
              "\n",
              "    .dataframe thead th {\n",
              "        text-align: right;\n",
              "    }\n",
              "</style>\n",
              "<table border=\"1\" class=\"dataframe\">\n",
              "  <thead>\n",
              "    <tr style=\"text-align: right;\">\n",
              "      <th></th>\n",
              "      <th>station</th>\n",
              "      <th>Date</th>\n",
              "      <th>Present_Tmax</th>\n",
              "      <th>Present_Tmin</th>\n",
              "      <th>LDAPS_RHmin</th>\n",
              "      <th>LDAPS_RHmax</th>\n",
              "      <th>LDAPS_Tmax_lapse</th>\n",
              "      <th>LDAPS_Tmin_lapse</th>\n",
              "      <th>LDAPS_WS</th>\n",
              "      <th>LDAPS_LH</th>\n",
              "      <th>...</th>\n",
              "      <th>LDAPS_PPT2</th>\n",
              "      <th>LDAPS_PPT3</th>\n",
              "      <th>LDAPS_PPT4</th>\n",
              "      <th>lat</th>\n",
              "      <th>lon</th>\n",
              "      <th>DEM</th>\n",
              "      <th>Slope</th>\n",
              "      <th>Solar radiation</th>\n",
              "      <th>Next_Tmax</th>\n",
              "      <th>Next_Tmin</th>\n",
              "    </tr>\n",
              "  </thead>\n",
              "  <tbody>\n",
              "    <tr>\n",
              "      <th>0</th>\n",
              "      <td>1</td>\n",
              "      <td>2013-06-30</td>\n",
              "      <td>28.7</td>\n",
              "      <td>21.4</td>\n",
              "      <td>58.255688</td>\n",
              "      <td>91.116364</td>\n",
              "      <td>28.074101</td>\n",
              "      <td>23.006936</td>\n",
              "      <td>6.818887</td>\n",
              "      <td>69.451805</td>\n",
              "      <td>...</td>\n",
              "      <td>0.0</td>\n",
              "      <td>0.0</td>\n",
              "      <td>0.0</td>\n",
              "      <td>37.6046</td>\n",
              "      <td>126.991</td>\n",
              "      <td>212.3350</td>\n",
              "      <td>2.7850</td>\n",
              "      <td>5992.895996</td>\n",
              "      <td>29.1</td>\n",
              "      <td>21.2</td>\n",
              "    </tr>\n",
              "    <tr>\n",
              "      <th>1</th>\n",
              "      <td>2</td>\n",
              "      <td>2013-06-30</td>\n",
              "      <td>31.9</td>\n",
              "      <td>21.6</td>\n",
              "      <td>52.263397</td>\n",
              "      <td>90.604721</td>\n",
              "      <td>29.850689</td>\n",
              "      <td>24.035009</td>\n",
              "      <td>5.691890</td>\n",
              "      <td>51.937448</td>\n",
              "      <td>...</td>\n",
              "      <td>0.0</td>\n",
              "      <td>0.0</td>\n",
              "      <td>0.0</td>\n",
              "      <td>37.6046</td>\n",
              "      <td>127.032</td>\n",
              "      <td>44.7624</td>\n",
              "      <td>0.5141</td>\n",
              "      <td>5869.312500</td>\n",
              "      <td>30.5</td>\n",
              "      <td>22.5</td>\n",
              "    </tr>\n",
              "    <tr>\n",
              "      <th>2</th>\n",
              "      <td>3</td>\n",
              "      <td>2013-06-30</td>\n",
              "      <td>31.6</td>\n",
              "      <td>23.3</td>\n",
              "      <td>48.690479</td>\n",
              "      <td>83.973587</td>\n",
              "      <td>30.091292</td>\n",
              "      <td>24.565633</td>\n",
              "      <td>6.138224</td>\n",
              "      <td>20.573050</td>\n",
              "      <td>...</td>\n",
              "      <td>0.0</td>\n",
              "      <td>0.0</td>\n",
              "      <td>0.0</td>\n",
              "      <td>37.5776</td>\n",
              "      <td>127.058</td>\n",
              "      <td>33.3068</td>\n",
              "      <td>0.2661</td>\n",
              "      <td>5863.555664</td>\n",
              "      <td>31.1</td>\n",
              "      <td>23.9</td>\n",
              "    </tr>\n",
              "    <tr>\n",
              "      <th>3</th>\n",
              "      <td>4</td>\n",
              "      <td>2013-06-30</td>\n",
              "      <td>32.0</td>\n",
              "      <td>23.4</td>\n",
              "      <td>58.239788</td>\n",
              "      <td>96.483688</td>\n",
              "      <td>29.704629</td>\n",
              "      <td>23.326177</td>\n",
              "      <td>5.650050</td>\n",
              "      <td>65.727144</td>\n",
              "      <td>...</td>\n",
              "      <td>0.0</td>\n",
              "      <td>0.0</td>\n",
              "      <td>0.0</td>\n",
              "      <td>37.6450</td>\n",
              "      <td>127.022</td>\n",
              "      <td>45.7160</td>\n",
              "      <td>2.5348</td>\n",
              "      <td>5856.964844</td>\n",
              "      <td>31.7</td>\n",
              "      <td>24.3</td>\n",
              "    </tr>\n",
              "    <tr>\n",
              "      <th>4</th>\n",
              "      <td>5</td>\n",
              "      <td>2013-06-30</td>\n",
              "      <td>31.4</td>\n",
              "      <td>21.9</td>\n",
              "      <td>56.174095</td>\n",
              "      <td>90.155128</td>\n",
              "      <td>29.113934</td>\n",
              "      <td>23.486480</td>\n",
              "      <td>5.735004</td>\n",
              "      <td>107.965535</td>\n",
              "      <td>...</td>\n",
              "      <td>0.0</td>\n",
              "      <td>0.0</td>\n",
              "      <td>0.0</td>\n",
              "      <td>37.5507</td>\n",
              "      <td>127.135</td>\n",
              "      <td>35.0380</td>\n",
              "      <td>0.5055</td>\n",
              "      <td>5859.552246</td>\n",
              "      <td>31.2</td>\n",
              "      <td>22.5</td>\n",
              "    </tr>\n",
              "    <tr>\n",
              "      <th>...</th>\n",
              "      <td>...</td>\n",
              "      <td>...</td>\n",
              "      <td>...</td>\n",
              "      <td>...</td>\n",
              "      <td>...</td>\n",
              "      <td>...</td>\n",
              "      <td>...</td>\n",
              "      <td>...</td>\n",
              "      <td>...</td>\n",
              "      <td>...</td>\n",
              "      <td>...</td>\n",
              "      <td>...</td>\n",
              "      <td>...</td>\n",
              "      <td>...</td>\n",
              "      <td>...</td>\n",
              "      <td>...</td>\n",
              "      <td>...</td>\n",
              "      <td>...</td>\n",
              "      <td>...</td>\n",
              "      <td>...</td>\n",
              "      <td>...</td>\n",
              "    </tr>\n",
              "    <tr>\n",
              "      <th>4995</th>\n",
              "      <td>21</td>\n",
              "      <td>2016-07-13</td>\n",
              "      <td>29.4</td>\n",
              "      <td>23.8</td>\n",
              "      <td>41.974205</td>\n",
              "      <td>87.207954</td>\n",
              "      <td>31.687531</td>\n",
              "      <td>23.559198</td>\n",
              "      <td>8.729008</td>\n",
              "      <td>30.103376</td>\n",
              "      <td>...</td>\n",
              "      <td>0.0</td>\n",
              "      <td>0.0</td>\n",
              "      <td>0.0</td>\n",
              "      <td>37.5507</td>\n",
              "      <td>127.040</td>\n",
              "      <td>26.2980</td>\n",
              "      <td>0.5721</td>\n",
              "      <td>5731.151367</td>\n",
              "      <td>31.4</td>\n",
              "      <td>23.7</td>\n",
              "    </tr>\n",
              "    <tr>\n",
              "      <th>4996</th>\n",
              "      <td>22</td>\n",
              "      <td>2016-07-13</td>\n",
              "      <td>30.5</td>\n",
              "      <td>23.9</td>\n",
              "      <td>47.098755</td>\n",
              "      <td>85.527657</td>\n",
              "      <td>30.619821</td>\n",
              "      <td>23.963060</td>\n",
              "      <td>7.511284</td>\n",
              "      <td>89.966421</td>\n",
              "      <td>...</td>\n",
              "      <td>0.0</td>\n",
              "      <td>0.0</td>\n",
              "      <td>0.0</td>\n",
              "      <td>37.5102</td>\n",
              "      <td>127.086</td>\n",
              "      <td>21.9668</td>\n",
              "      <td>0.1332</td>\n",
              "      <td>5723.705566</td>\n",
              "      <td>32.3</td>\n",
              "      <td>24.5</td>\n",
              "    </tr>\n",
              "    <tr>\n",
              "      <th>4997</th>\n",
              "      <td>23</td>\n",
              "      <td>2016-07-13</td>\n",
              "      <td>29.9</td>\n",
              "      <td>24.2</td>\n",
              "      <td>44.952415</td>\n",
              "      <td>88.356277</td>\n",
              "      <td>30.959148</td>\n",
              "      <td>23.534363</td>\n",
              "      <td>7.854094</td>\n",
              "      <td>90.602445</td>\n",
              "      <td>...</td>\n",
              "      <td>0.0</td>\n",
              "      <td>0.0</td>\n",
              "      <td>0.0</td>\n",
              "      <td>37.5372</td>\n",
              "      <td>126.891</td>\n",
              "      <td>15.5876</td>\n",
              "      <td>0.1554</td>\n",
              "      <td>5722.567871</td>\n",
              "      <td>33.6</td>\n",
              "      <td>24.6</td>\n",
              "    </tr>\n",
              "    <tr>\n",
              "      <th>4998</th>\n",
              "      <td>24</td>\n",
              "      <td>2016-07-13</td>\n",
              "      <td>29.8</td>\n",
              "      <td>23.9</td>\n",
              "      <td>42.318356</td>\n",
              "      <td>86.101814</td>\n",
              "      <td>31.491212</td>\n",
              "      <td>23.700775</td>\n",
              "      <td>8.079459</td>\n",
              "      <td>47.956783</td>\n",
              "      <td>...</td>\n",
              "      <td>0.0</td>\n",
              "      <td>0.0</td>\n",
              "      <td>0.0</td>\n",
              "      <td>37.5237</td>\n",
              "      <td>126.909</td>\n",
              "      <td>17.2956</td>\n",
              "      <td>0.2223</td>\n",
              "      <td>5721.034180</td>\n",
              "      <td>32.6</td>\n",
              "      <td>24.4</td>\n",
              "    </tr>\n",
              "    <tr>\n",
              "      <th>4999</th>\n",
              "      <td>25</td>\n",
              "      <td>2016-07-13</td>\n",
              "      <td>29.7</td>\n",
              "      <td>24.1</td>\n",
              "      <td>40.501068</td>\n",
              "      <td>84.008720</td>\n",
              "      <td>31.823822</td>\n",
              "      <td>23.800890</td>\n",
              "      <td>8.246721</td>\n",
              "      <td>23.037897</td>\n",
              "      <td>...</td>\n",
              "      <td>0.0</td>\n",
              "      <td>0.0</td>\n",
              "      <td>0.0</td>\n",
              "      <td>37.5237</td>\n",
              "      <td>126.970</td>\n",
              "      <td>19.5844</td>\n",
              "      <td>0.2713</td>\n",
              "      <td>5726.839355</td>\n",
              "      <td>32.5</td>\n",
              "      <td>23.8</td>\n",
              "    </tr>\n",
              "  </tbody>\n",
              "</table>\n",
              "<p>5000 rows × 25 columns</p>\n",
              "</div>"
            ],
            "text/plain": [
              "      station        Date  Present_Tmax  Present_Tmin  LDAPS_RHmin  \\\n",
              "0           1  2013-06-30          28.7          21.4    58.255688   \n",
              "1           2  2013-06-30          31.9          21.6    52.263397   \n",
              "2           3  2013-06-30          31.6          23.3    48.690479   \n",
              "3           4  2013-06-30          32.0          23.4    58.239788   \n",
              "4           5  2013-06-30          31.4          21.9    56.174095   \n",
              "...       ...         ...           ...           ...          ...   \n",
              "4995       21  2016-07-13          29.4          23.8    41.974205   \n",
              "4996       22  2016-07-13          30.5          23.9    47.098755   \n",
              "4997       23  2016-07-13          29.9          24.2    44.952415   \n",
              "4998       24  2016-07-13          29.8          23.9    42.318356   \n",
              "4999       25  2016-07-13          29.7          24.1    40.501068   \n",
              "\n",
              "      LDAPS_RHmax  LDAPS_Tmax_lapse  LDAPS_Tmin_lapse  LDAPS_WS    LDAPS_LH  \\\n",
              "0       91.116364         28.074101         23.006936  6.818887   69.451805   \n",
              "1       90.604721         29.850689         24.035009  5.691890   51.937448   \n",
              "2       83.973587         30.091292         24.565633  6.138224   20.573050   \n",
              "3       96.483688         29.704629         23.326177  5.650050   65.727144   \n",
              "4       90.155128         29.113934         23.486480  5.735004  107.965535   \n",
              "...           ...               ...               ...       ...         ...   \n",
              "4995    87.207954         31.687531         23.559198  8.729008   30.103376   \n",
              "4996    85.527657         30.619821         23.963060  7.511284   89.966421   \n",
              "4997    88.356277         30.959148         23.534363  7.854094   90.602445   \n",
              "4998    86.101814         31.491212         23.700775  8.079459   47.956783   \n",
              "4999    84.008720         31.823822         23.800890  8.246721   23.037897   \n",
              "\n",
              "      ...  LDAPS_PPT2  LDAPS_PPT3  LDAPS_PPT4      lat      lon       DEM  \\\n",
              "0     ...         0.0         0.0         0.0  37.6046  126.991  212.3350   \n",
              "1     ...         0.0         0.0         0.0  37.6046  127.032   44.7624   \n",
              "2     ...         0.0         0.0         0.0  37.5776  127.058   33.3068   \n",
              "3     ...         0.0         0.0         0.0  37.6450  127.022   45.7160   \n",
              "4     ...         0.0         0.0         0.0  37.5507  127.135   35.0380   \n",
              "...   ...         ...         ...         ...      ...      ...       ...   \n",
              "4995  ...         0.0         0.0         0.0  37.5507  127.040   26.2980   \n",
              "4996  ...         0.0         0.0         0.0  37.5102  127.086   21.9668   \n",
              "4997  ...         0.0         0.0         0.0  37.5372  126.891   15.5876   \n",
              "4998  ...         0.0         0.0         0.0  37.5237  126.909   17.2956   \n",
              "4999  ...         0.0         0.0         0.0  37.5237  126.970   19.5844   \n",
              "\n",
              "       Slope  Solar radiation  Next_Tmax  Next_Tmin  \n",
              "0     2.7850      5992.895996       29.1       21.2  \n",
              "1     0.5141      5869.312500       30.5       22.5  \n",
              "2     0.2661      5863.555664       31.1       23.9  \n",
              "3     2.5348      5856.964844       31.7       24.3  \n",
              "4     0.5055      5859.552246       31.2       22.5  \n",
              "...      ...              ...        ...        ...  \n",
              "4995  0.5721      5731.151367       31.4       23.7  \n",
              "4996  0.1332      5723.705566       32.3       24.5  \n",
              "4997  0.1554      5722.567871       33.6       24.6  \n",
              "4998  0.2223      5721.034180       32.6       24.4  \n",
              "4999  0.2713      5726.839355       32.5       23.8  \n",
              "\n",
              "[5000 rows x 25 columns]"
            ]
          },
          "execution_count": 10,
          "metadata": {},
          "output_type": "execute_result"
        }
      ],
      "source": [
        "df = pd.read_csv('Bias_correction_ucl - Copy.csv', nrows=5000)\n",
        "df.round(decimals = 3)\n",
        "df.drop\n",
        "df = df.dropna()\n",
        "df"
      ]
    },
    {
      "cell_type": "code",
      "execution_count": 11,
      "metadata": {
        "id": "XXIhwsqxSPxC"
      },
      "outputs": [],
      "source": [
        "x = df[:].drop(['Present_Tmax', 'Date', 'Solar radiation'], axis = 1).values\n",
        "y = df['Present_Tmax'].values"
      ]
    },
    {
      "cell_type": "code",
      "execution_count": 12,
      "metadata": {
        "colab": {
          "base_uri": "https://localhost:8080/"
        },
        "id": "1-CXWhgqXa1U",
        "outputId": "a605ef05-0579-451a-c2a6-c2a857a1686f"
      },
      "outputs": [
        {
          "name": "stdout",
          "output_type": "stream",
          "text": [
            "(5000, 22) (5000,)\n"
          ]
        }
      ],
      "source": [
        "print(x.shape,y.shape)"
      ]
    },
    {
      "cell_type": "code",
      "execution_count": 13,
      "metadata": {
        "colab": {
          "base_uri": "https://localhost:8080/",
          "height": 265
        },
        "id": "AVfwAy-fX9UU",
        "outputId": "b5075679-f15b-4f1a-cba1-9c197be8083e"
      },
      "outputs": [
        {
          "data": {
            "image/png": "[encoded data removed]",
            "text/plain": [
              "<Figure size 432x288 with 1 Axes>"
            ]
          },
          "metadata": {
            "needs_background": "light"
          },
          "output_type": "display_data"
        }
      ],
      "source": [
        "plt.plot(x, y, 'r.')\n",
        "plt.show()"
      ]
    },
    {
      "cell_type": "code",
      "execution_count": 14,
      "metadata": {
        "id": "FG5429ppYDEK"
      },
      "outputs": [],
      "source": [
        "x_train, x_test, y_train, y_test, = train_test_split(x,y, test_size=0.2)"
      ]
    },
    {
      "cell_type": "code",
      "execution_count": 15,
      "metadata": {
        "colab": {
          "base_uri": "https://localhost:8080/",
          "height": 282
        },
        "id": "a36UtkopYpvk",
        "outputId": "795950cd-6d95-4975-aa27-31213baa2c36"
      },
      "outputs": [
        {
          "data": {
            "image/png": "[encoded data removed]",
            "text/plain": [
              "<Figure size 432x288 with 1 Axes>"
            ]
          },
          "metadata": {
            "needs_background": "light"
          },
          "output_type": "display_data"
        },
        {
          "name": "stdout",
          "output_type": "stream",
          "text": [
            "RMSE = 2.0143820777902732\n"
          ]
        }
      ],
      "source": [
        "#Linear Regression \n",
        "regr_LR = LR()\n",
        "regr_LR.fit(x_train, y_train)\n",
        "\n",
        "#Mu\n",
        "#Predicting Temp Max\n",
        "predict_Tmax = regr_LR.predict(x_test)\n",
        "\n",
        "#Plotting graph \n",
        "plt.plot(x_test, y_test, 'r.')\n",
        "plt.plot(x_test, predict_Tmax, 'b.')\n",
        "plt.show()\n",
        "rmse_lnr = math.sqrt(((y_test - predict_Tmax)**2).mean())\n",
        "print(\"RMSE = \" + str(rmse_lnr))"
      ]
    },
    {
      "cell_type": "code",
      "execution_count": 16,
      "metadata": {
        "colab": {
          "base_uri": "https://localhost:8080/",
          "height": 282
        },
        "id": "hfAI18BZYvmr",
        "outputId": "28511e22-4f85-4e21-e532-3c161d8643fd"
      },
      "outputs": [
        {
          "data": {
            "image/png": "[encoded data removed]",
            "text/plain": [
              "<Figure size 432x288 with 1 Axes>"
            ]
          },
          "metadata": {
            "needs_background": "light"
          },
          "output_type": "display_data"
        },
        {
          "name": "stdout",
          "output_type": "stream",
          "text": [
            "RMSE =  2.797707219541017\n"
          ]
        }
      ],
      "source": [
        "#SVR - Support Vector Regression \n",
        "regr_SVR = SVR()\n",
        "regr_SVR.fit(x_train, y_train)\n",
        "\n",
        "#Predicting Temp Max \n",
        "predict_Tmax = regr_SVR.predict(x_test)\n",
        "\n",
        "#Plotting Graph\n",
        "plt.plot(x_test, y_test, 'r.')\n",
        "plt.plot(x_test, predict_Tmax, 'b.')\n",
        "plt.show()\n",
        "rmse_lnr= math.sqrt(((y_test - predict_Tmax)**2).mean())\n",
        "print(\"RMSE = \",rmse_lnr)\n"
      ]
    },
    {
      "cell_type": "code",
      "execution_count": null,
      "metadata": {
        "id": "eFE68aHL537h"
      },
      "outputs": [],
      "source": []
    }
  ],
  "metadata": {
    "colab": {
      "authorship_tag": "ABX9TyMCYSr3fP3Kkuw5YmDfymvV",
      "include_colab_link": true,
      "name": "Bias Correction.ipynb",
      "provenance": []
    },
    "kernelspec": {
      "display_name": "Python 3",
      "name": "python3"
    },
    "language_info": {
      "codemirror_mode": {
        "name": "ipython",
        "version": 3
      },
      "file_extension": ".py",
      "mimetype": "text/x-python",
      "name": "python",
      "nbconvert_exporter": "python",
      "pygments_lexer": "ipython3",
      "version": "3.9.6"
    }
  },
  "nbformat": 4,
  "nbformat_minor": 0
}
