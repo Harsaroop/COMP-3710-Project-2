{
  "cells": [
    {
      "cell_type": "markdown",
      "metadata": {
        "colab_type": "text",
        "id": "view-in-github"
      },
      "source": [
        "<a href=\"https://colab.research.google.com/github/Harsaroop/COMP-3710-Project-2/blob/main/linearRegression.ipynb\" target=\"_parent\"><img src=\"https://colab.research.google.com/assets/colab-badge.svg\" alt=\"Open In Colab\"/></a>"
      ]
    },
    {
      "cell_type": "markdown",
      "metadata": {},
      "source": [
        "# Simple Linear Regression "
      ]
    },
    {
      "cell_type": "code",
      "execution_count": 115,
      "metadata": {
        "id": "f5gKqb1gG0-W"
      },
      "outputs": [],
      "source": [
        "import tensorflow as tf\n",
        "import numpy as np\n",
        "import pandas as pd"
      ]
    },
    {
      "cell_type": "code",
      "execution_count": 116,
      "metadata": {
        "id": "SpmPK_I3HaKU"
      },
      "outputs": [],
      "source": [
        "df = pd.read_csv('Bias_correction_ucl - Copy.csv', nrows=5000)\n",
        "data = df.round(decimals=3)"
      ]
    },
    {
      "cell_type": "code",
      "execution_count": 117,
      "metadata": {
        "colab": {
          "base_uri": "https://localhost:8080/",
          "height": 403
        },
        "id": "6aKg305sH7jF",
        "outputId": "59087497-e410-473d-f1f0-8c90e1a24736"
      },
      "outputs": [
        {
          "data": {
            "text/html": [
              "<div>\n",
              "<style scoped>\n",
              "    .dataframe tbody tr th:only-of-type {\n",
              "        vertical-align: middle;\n",
              "    }\n",
              "\n",
              "    .dataframe tbody tr th {\n",
              "        vertical-align: top;\n",
              "    }\n",
              "\n",
              "    .dataframe thead th {\n",
              "        text-align: right;\n",
              "    }\n",
              "</style>\n",
              "<table border=\"1\" class=\"dataframe\">\n",
              "  <thead>\n",
              "    <tr style=\"text-align: right;\">\n",
              "      <th></th>\n",
              "      <th>station</th>\n",
              "      <th>Date</th>\n",
              "      <th>Present_Tmax</th>\n",
              "      <th>Present_Tmin</th>\n",
              "      <th>LDAPS_RHmin</th>\n",
              "      <th>LDAPS_RHmax</th>\n",
              "      <th>LDAPS_Tmax_lapse</th>\n",
              "      <th>LDAPS_Tmin_lapse</th>\n",
              "      <th>LDAPS_WS</th>\n",
              "      <th>LDAPS_LH</th>\n",
              "      <th>...</th>\n",
              "      <th>LDAPS_PPT2</th>\n",
              "      <th>LDAPS_PPT3</th>\n",
              "      <th>LDAPS_PPT4</th>\n",
              "      <th>lat</th>\n",
              "      <th>lon</th>\n",
              "      <th>DEM</th>\n",
              "      <th>Slope</th>\n",
              "      <th>Solar radiation</th>\n",
              "      <th>Next_Tmax</th>\n",
              "      <th>Next_Tmin</th>\n",
              "    </tr>\n",
              "  </thead>\n",
              "  <tbody>\n",
              "    <tr>\n",
              "      <th>0</th>\n",
              "      <td>1</td>\n",
              "      <td>2013-06-30</td>\n",
              "      <td>28.7</td>\n",
              "      <td>21.4</td>\n",
              "      <td>58.256</td>\n",
              "      <td>91.116</td>\n",
              "      <td>28.074</td>\n",
              "      <td>23.007</td>\n",
              "      <td>6.819</td>\n",
              "      <td>69.452</td>\n",
              "      <td>...</td>\n",
              "      <td>0.0</td>\n",
              "      <td>0.0</td>\n",
              "      <td>0.0</td>\n",
              "      <td>37.605</td>\n",
              "      <td>126.991</td>\n",
              "      <td>212.335</td>\n",
              "      <td>2.785</td>\n",
              "      <td>5992.896</td>\n",
              "      <td>29.1</td>\n",
              "      <td>21.2</td>\n",
              "    </tr>\n",
              "    <tr>\n",
              "      <th>1</th>\n",
              "      <td>2</td>\n",
              "      <td>2013-06-30</td>\n",
              "      <td>31.9</td>\n",
              "      <td>21.6</td>\n",
              "      <td>52.263</td>\n",
              "      <td>90.605</td>\n",
              "      <td>29.851</td>\n",
              "      <td>24.035</td>\n",
              "      <td>5.692</td>\n",
              "      <td>51.937</td>\n",
              "      <td>...</td>\n",
              "      <td>0.0</td>\n",
              "      <td>0.0</td>\n",
              "      <td>0.0</td>\n",
              "      <td>37.605</td>\n",
              "      <td>127.032</td>\n",
              "      <td>44.762</td>\n",
              "      <td>0.514</td>\n",
              "      <td>5869.312</td>\n",
              "      <td>30.5</td>\n",
              "      <td>22.5</td>\n",
              "    </tr>\n",
              "    <tr>\n",
              "      <th>2</th>\n",
              "      <td>3</td>\n",
              "      <td>2013-06-30</td>\n",
              "      <td>31.6</td>\n",
              "      <td>23.3</td>\n",
              "      <td>48.690</td>\n",
              "      <td>83.974</td>\n",
              "      <td>30.091</td>\n",
              "      <td>24.566</td>\n",
              "      <td>6.138</td>\n",
              "      <td>20.573</td>\n",
              "      <td>...</td>\n",
              "      <td>0.0</td>\n",
              "      <td>0.0</td>\n",
              "      <td>0.0</td>\n",
              "      <td>37.578</td>\n",
              "      <td>127.058</td>\n",
              "      <td>33.307</td>\n",
              "      <td>0.266</td>\n",
              "      <td>5863.556</td>\n",
              "      <td>31.1</td>\n",
              "      <td>23.9</td>\n",
              "    </tr>\n",
              "    <tr>\n",
              "      <th>3</th>\n",
              "      <td>4</td>\n",
              "      <td>2013-06-30</td>\n",
              "      <td>32.0</td>\n",
              "      <td>23.4</td>\n",
              "      <td>58.240</td>\n",
              "      <td>96.484</td>\n",
              "      <td>29.705</td>\n",
              "      <td>23.326</td>\n",
              "      <td>5.650</td>\n",
              "      <td>65.727</td>\n",
              "      <td>...</td>\n",
              "      <td>0.0</td>\n",
              "      <td>0.0</td>\n",
              "      <td>0.0</td>\n",
              "      <td>37.645</td>\n",
              "      <td>127.022</td>\n",
              "      <td>45.716</td>\n",
              "      <td>2.535</td>\n",
              "      <td>5856.965</td>\n",
              "      <td>31.7</td>\n",
              "      <td>24.3</td>\n",
              "    </tr>\n",
              "    <tr>\n",
              "      <th>4</th>\n",
              "      <td>5</td>\n",
              "      <td>2013-06-30</td>\n",
              "      <td>31.4</td>\n",
              "      <td>21.9</td>\n",
              "      <td>56.174</td>\n",
              "      <td>90.155</td>\n",
              "      <td>29.114</td>\n",
              "      <td>23.486</td>\n",
              "      <td>5.735</td>\n",
              "      <td>107.966</td>\n",
              "      <td>...</td>\n",
              "      <td>0.0</td>\n",
              "      <td>0.0</td>\n",
              "      <td>0.0</td>\n",
              "      <td>37.551</td>\n",
              "      <td>127.135</td>\n",
              "      <td>35.038</td>\n",
              "      <td>0.505</td>\n",
              "      <td>5859.552</td>\n",
              "      <td>31.2</td>\n",
              "      <td>22.5</td>\n",
              "    </tr>\n",
              "  </tbody>\n",
              "</table>\n",
              "<p>5 rows × 25 columns</p>\n",
              "</div>"
            ],
            "text/plain": [
              "   station        Date  Present_Tmax  Present_Tmin  LDAPS_RHmin  LDAPS_RHmax  \\\n",
              "0        1  2013-06-30          28.7          21.4       58.256       91.116   \n",
              "1        2  2013-06-30          31.9          21.6       52.263       90.605   \n",
              "2        3  2013-06-30          31.6          23.3       48.690       83.974   \n",
              "3        4  2013-06-30          32.0          23.4       58.240       96.484   \n",
              "4        5  2013-06-30          31.4          21.9       56.174       90.155   \n",
              "\n",
              "   LDAPS_Tmax_lapse  LDAPS_Tmin_lapse  LDAPS_WS  LDAPS_LH  ...  LDAPS_PPT2  \\\n",
              "0            28.074            23.007     6.819    69.452  ...         0.0   \n",
              "1            29.851            24.035     5.692    51.937  ...         0.0   \n",
              "2            30.091            24.566     6.138    20.573  ...         0.0   \n",
              "3            29.705            23.326     5.650    65.727  ...         0.0   \n",
              "4            29.114            23.486     5.735   107.966  ...         0.0   \n",
              "\n",
              "   LDAPS_PPT3  LDAPS_PPT4     lat      lon      DEM  Slope  Solar radiation  \\\n",
              "0         0.0         0.0  37.605  126.991  212.335  2.785         5992.896   \n",
              "1         0.0         0.0  37.605  127.032   44.762  0.514         5869.312   \n",
              "2         0.0         0.0  37.578  127.058   33.307  0.266         5863.556   \n",
              "3         0.0         0.0  37.645  127.022   45.716  2.535         5856.965   \n",
              "4         0.0         0.0  37.551  127.135   35.038  0.505         5859.552   \n",
              "\n",
              "   Next_Tmax  Next_Tmin  \n",
              "0       29.1       21.2  \n",
              "1       30.5       22.5  \n",
              "2       31.1       23.9  \n",
              "3       31.7       24.3  \n",
              "4       31.2       22.5  \n",
              "\n",
              "[5 rows x 25 columns]"
            ]
          },
          "execution_count": 117,
          "metadata": {},
          "output_type": "execute_result"
        }
      ],
      "source": [
        "data.head()"
      ]
    },
    {
      "cell_type": "code",
      "execution_count": 118,
      "metadata": {
        "id": "CPMMxd6XIaVF"
      },
      "outputs": [],
      "source": [
        "\n",
        "x = data[['station',  'Present_Tmin', 'LDAPS_RHmin','LDAPS_RHmax', 'LDAPS_Tmax_lapse', 'LDAPS_Tmin_lapse', 'LDAPS_WS','LDAPS_LH', 'LDAPS_CC1', 'LDAPS_CC2', 'LDAPS_CC3', 'LDAPS_CC4','LDAPS_PPT1', 'LDAPS_PPT2', 'LDAPS_PPT3', 'LDAPS_PPT4', 'lat', 'lon','DEM', 'Slope', 'Next_Tmax', 'Next_Tmin']].values\n",
        "#use only 1 feature\n",
        "x = x[:, np.newaxis, 2]\n",
        "y = data['Present_Tmax'].values"
      ]
    },
    {
      "cell_type": "code",
      "execution_count": 119,
      "metadata": {
        "colab": {
          "base_uri": "https://localhost:8080/"
        },
        "id": "-c0tp2oVI8ve",
        "outputId": "bba3fe15-f2fb-45d9-8683-8c39f3d28508"
      },
      "outputs": [
        {
          "name": "stdout",
          "output_type": "stream",
          "text": [
            "[[58.256]\n",
            " [52.263]\n",
            " [48.69 ]\n",
            " ...\n",
            " [44.952]\n",
            " [42.318]\n",
            " [40.501]]\n"
          ]
        }
      ],
      "source": [
        "print(x)"
      ]
    },
    {
      "cell_type": "code",
      "execution_count": 120,
      "metadata": {
        "colab": {
          "base_uri": "https://localhost:8080/"
        },
        "id": "rpSYiPd5JA09",
        "outputId": "bb0ed17a-407a-4fe7-c9a4-8ec9430fddd7"
      },
      "outputs": [
        {
          "name": "stdout",
          "output_type": "stream",
          "text": [
            "[28.7 31.9 31.6 ... 29.9 29.8 29.7]\n"
          ]
        }
      ],
      "source": [
        "print(y)"
      ]
    },
    {
      "cell_type": "code",
      "execution_count": 121,
      "metadata": {
        "id": "Pb8PNUq4JIT1"
      },
      "outputs": [],
      "source": [
        "from sklearn.model_selection import train_test_split\n",
        "x_train, x_test, y_train, y_test = train_test_split(x,y, test_size=0.3, random_state=0)"
      ]
    },
    {
      "cell_type": "code",
      "execution_count": 122,
      "metadata": {
        "colab": {
          "base_uri": "https://localhost:8080/"
        },
        "id": "qO9Ax75CJs0-",
        "outputId": "c3ca3cb0-f0c0-4ccb-ef52-3da818a27246"
      },
      "outputs": [
        {
          "data": {
            "text/plain": [
              "LinearRegression()"
            ]
          },
          "execution_count": 122,
          "metadata": {},
          "output_type": "execute_result"
        }
      ],
      "source": [
        "from sklearn.linear_model import LinearRegression\n",
        "ml = LinearRegression()\n",
        "ml.fit(x_train, y_train)"
      ]
    },
    {
      "cell_type": "code",
      "execution_count": 123,
      "metadata": {
        "colab": {
          "base_uri": "https://localhost:8080/"
        },
        "id": "RDTOIEzUKjz3",
        "outputId": "6bae0920-8b9c-4202-f9c8-63bd344b6e30"
      },
      "outputs": [
        {
          "name": "stdout",
          "output_type": "stream",
          "text": [
            "[28.50837624 28.56573864 29.80779438 ... 29.48110806 29.24125471\n",
            " 29.96611783]\n"
          ]
        }
      ],
      "source": [
        "y_pred = ml.predict(x_test)\n",
        "print(y_pred)"
      ]
    },
    {
      "cell_type": "code",
      "execution_count": 124,
      "metadata": {
        "colab": {
          "base_uri": "https://localhost:8080/"
        },
        "id": "vtRAEwtlLAN4",
        "outputId": "d99c167f-e3cf-4d21-bd19-4734d48f805f"
      },
      "outputs": [],
      "source": [
        "#ml.predict([[1,21.4,\t58.256,\t91.116,\t28.074,\t23.007,\t6.819\t,69.452\t,\t0.234\t,0.203,0.161,0.130,0,0,0,37.605,\t126.991\t,212.335,\t2.785,\t5992.896,\t29.1,\t21.2]])\n",
        "#ml.predict(x_test)"
      ]
    },
    {
      "cell_type": "code",
      "execution_count": 125,
      "metadata": {
        "colab": {
          "base_uri": "https://localhost:8080/"
        },
        "id": "1k07J3zw629q",
        "outputId": "67e27f06-b433-4417-f8b9-0c76dfe2fa4a"
      },
      "outputs": [
        {
          "data": {
            "text/plain": [
              "0.023799978797792165"
            ]
          },
          "execution_count": 125,
          "metadata": {},
          "output_type": "execute_result"
        }
      ],
      "source": [
        "from sklearn.metrics import r2_score\n",
        "r2_score(y_test,y_pred)"
      ]
    },
    {
      "cell_type": "code",
      "execution_count": 126,
      "metadata": {
        "colab": {
          "base_uri": "https://localhost:8080/",
          "height": 623
        },
        "id": "wIKfVKv_7Z86",
        "outputId": "8f1a5d12-e0af-4129-80ae-0c0a8a2f9044"
      },
      "outputs": [
        {
          "data": {
            "text/plain": [
              "Text(0, 0.5, 'Predicted')"
            ]
          },
          "execution_count": 126,
          "metadata": {},
          "output_type": "execute_result"
        },
        {
          "data": {
            "image/png": "[encoded data removed]",
            "text/plain": [
              "<Figure size 1080x720 with 1 Axes>"
            ]
          },
          "metadata": {
            "needs_background": "light"
          },
          "output_type": "display_data"
        }
      ],
      "source": [
        "import matplotlib.pyplot as plt\n",
        "plt.figure(figsize=(15,10))\n",
        "plt.scatter(y_test,y_pred)\n",
        "plt.xlabel('Actual')\n",
        "plt.ylabel('Predicted')"
      ]
    },
    {
      "cell_type": "code",
      "execution_count": 127,
      "metadata": {
        "colab": {
          "base_uri": "https://localhost:8080/",
          "height": 676
        },
        "id": "dNL0m8-R8IOj",
        "outputId": "5462d395-887a-45f2-d726-7e06cc0299bd"
      },
      "outputs": [
        {
          "data": {
            "text/html": [
              "<div>\n",
              "<style scoped>\n",
              "    .dataframe tbody tr th:only-of-type {\n",
              "        vertical-align: middle;\n",
              "    }\n",
              "\n",
              "    .dataframe tbody tr th {\n",
              "        vertical-align: top;\n",
              "    }\n",
              "\n",
              "    .dataframe thead th {\n",
              "        text-align: right;\n",
              "    }\n",
              "</style>\n",
              "<table border=\"1\" class=\"dataframe\">\n",
              "  <thead>\n",
              "    <tr style=\"text-align: right;\">\n",
              "      <th></th>\n",
              "      <th>Actual Value</th>\n",
              "      <th>Predicted Value</th>\n",
              "      <th>Difference</th>\n",
              "    </tr>\n",
              "  </thead>\n",
              "  <tbody>\n",
              "    <tr>\n",
              "      <th>0</th>\n",
              "      <td>29.5</td>\n",
              "      <td>28.508376</td>\n",
              "      <td>0.991624</td>\n",
              "    </tr>\n",
              "    <tr>\n",
              "      <th>1</th>\n",
              "      <td>29.3</td>\n",
              "      <td>28.565739</td>\n",
              "      <td>0.734261</td>\n",
              "    </tr>\n",
              "    <tr>\n",
              "      <th>2</th>\n",
              "      <td>27.6</td>\n",
              "      <td>29.807794</td>\n",
              "      <td>-2.207794</td>\n",
              "    </tr>\n",
              "    <tr>\n",
              "      <th>3</th>\n",
              "      <td>30.8</td>\n",
              "      <td>29.796662</td>\n",
              "      <td>1.003338</td>\n",
              "    </tr>\n",
              "    <tr>\n",
              "      <th>4</th>\n",
              "      <td>30.8</td>\n",
              "      <td>29.659875</td>\n",
              "      <td>1.140125</td>\n",
              "    </tr>\n",
              "    <tr>\n",
              "      <th>5</th>\n",
              "      <td>30.2</td>\n",
              "      <td>30.215525</td>\n",
              "      <td>-0.015525</td>\n",
              "    </tr>\n",
              "    <tr>\n",
              "      <th>6</th>\n",
              "      <td>32.6</td>\n",
              "      <td>29.634007</td>\n",
              "      <td>2.965993</td>\n",
              "    </tr>\n",
              "    <tr>\n",
              "      <th>7</th>\n",
              "      <td>30.0</td>\n",
              "      <td>29.794395</td>\n",
              "      <td>0.205605</td>\n",
              "    </tr>\n",
              "    <tr>\n",
              "      <th>8</th>\n",
              "      <td>31.1</td>\n",
              "      <td>29.241214</td>\n",
              "      <td>1.858786</td>\n",
              "    </tr>\n",
              "    <tr>\n",
              "      <th>9</th>\n",
              "      <td>29.9</td>\n",
              "      <td>30.127558</td>\n",
              "      <td>-0.227558</td>\n",
              "    </tr>\n",
              "    <tr>\n",
              "      <th>10</th>\n",
              "      <td>34.8</td>\n",
              "      <td>28.555092</td>\n",
              "      <td>6.244908</td>\n",
              "    </tr>\n",
              "    <tr>\n",
              "      <th>11</th>\n",
              "      <td>33.2</td>\n",
              "      <td>30.170752</td>\n",
              "      <td>3.029248</td>\n",
              "    </tr>\n",
              "    <tr>\n",
              "      <th>12</th>\n",
              "      <td>27.6</td>\n",
              "      <td>29.250201</td>\n",
              "      <td>-1.650201</td>\n",
              "    </tr>\n",
              "    <tr>\n",
              "      <th>13</th>\n",
              "      <td>25.2</td>\n",
              "      <td>27.954588</td>\n",
              "      <td>-2.754588</td>\n",
              "    </tr>\n",
              "    <tr>\n",
              "      <th>14</th>\n",
              "      <td>30.3</td>\n",
              "      <td>28.114369</td>\n",
              "      <td>2.185631</td>\n",
              "    </tr>\n",
              "    <tr>\n",
              "      <th>15</th>\n",
              "      <td>28.4</td>\n",
              "      <td>30.361947</td>\n",
              "      <td>-1.961947</td>\n",
              "    </tr>\n",
              "    <tr>\n",
              "      <th>16</th>\n",
              "      <td>31.1</td>\n",
              "      <td>28.710906</td>\n",
              "      <td>2.389094</td>\n",
              "    </tr>\n",
              "    <tr>\n",
              "      <th>17</th>\n",
              "      <td>24.5</td>\n",
              "      <td>28.508498</td>\n",
              "      <td>-4.008498</td>\n",
              "    </tr>\n",
              "    <tr>\n",
              "      <th>18</th>\n",
              "      <td>32.7</td>\n",
              "      <td>30.052506</td>\n",
              "      <td>2.647494</td>\n",
              "    </tr>\n",
              "    <tr>\n",
              "      <th>19</th>\n",
              "      <td>29.7</td>\n",
              "      <td>28.448544</td>\n",
              "      <td>1.251456</td>\n",
              "    </tr>\n",
              "  </tbody>\n",
              "</table>\n",
              "</div>"
            ],
            "text/plain": [
              "    Actual Value  Predicted Value  Difference\n",
              "0           29.5        28.508376    0.991624\n",
              "1           29.3        28.565739    0.734261\n",
              "2           27.6        29.807794   -2.207794\n",
              "3           30.8        29.796662    1.003338\n",
              "4           30.8        29.659875    1.140125\n",
              "5           30.2        30.215525   -0.015525\n",
              "6           32.6        29.634007    2.965993\n",
              "7           30.0        29.794395    0.205605\n",
              "8           31.1        29.241214    1.858786\n",
              "9           29.9        30.127558   -0.227558\n",
              "10          34.8        28.555092    6.244908\n",
              "11          33.2        30.170752    3.029248\n",
              "12          27.6        29.250201   -1.650201\n",
              "13          25.2        27.954588   -2.754588\n",
              "14          30.3        28.114369    2.185631\n",
              "15          28.4        30.361947   -1.961947\n",
              "16          31.1        28.710906    2.389094\n",
              "17          24.5        28.508498   -4.008498\n",
              "18          32.7        30.052506    2.647494\n",
              "19          29.7        28.448544    1.251456"
            ]
          },
          "execution_count": 127,
          "metadata": {},
          "output_type": "execute_result"
        }
      ],
      "source": [
        "pred_val = pd.DataFrame({'Actual Value': y_test, 'Predicted Value': y_pred, 'Difference':y_test-y_pred})\n",
        "pred_val[0:20]"
      ]
    }
  ],
  "metadata": {
    "colab": {
      "authorship_tag": "ABX9TyPsRXNoBbTBcrHqiJ8WK67L",
      "collapsed_sections": [],
      "include_colab_link": true,
      "name": "linearRegression.ipynb",
      "provenance": []
    },
    "kernelspec": {
      "display_name": "Python 3",
      "name": "python3"
    },
    "language_info": {
      "codemirror_mode": {
        "name": "ipython",
        "version": 3
      },
      "file_extension": ".py",
      "mimetype": "text/x-python",
      "name": "python",
      "nbconvert_exporter": "python",
      "pygments_lexer": "ipython3",
      "version": "3.9.6"
    }
  },
  "nbformat": 4,
  "nbformat_minor": 0
}
