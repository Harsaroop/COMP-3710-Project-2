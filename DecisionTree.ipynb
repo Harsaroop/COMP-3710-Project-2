{
  "nbformat": 4,
  "nbformat_minor": 0,
  "metadata": {
    "colab": {
      "name": "DecisionTree.ipynb",
      "provenance": [],
      "authorship_tag": "ABX9TyOCoQeEFXxZL4BNphRsFCpJ",
      "include_colab_link": true
    },
    "kernelspec": {
      "name": "python3",
      "display_name": "Python 3"
    },
    "language_info": {
      "name": "python"
    }
  },
  "cells": [
    {
      "cell_type": "markdown",
      "metadata": {
        "id": "view-in-github",
        "colab_type": "text"
      },
      "source": [
        "<a href=\"https://colab.research.google.com/github/Harsaroop/COMP-3710-Project-2/blob/main/DecisionTree.ipynb\" target=\"_parent\"><img src=\"https://colab.research.google.com/assets/colab-badge.svg\" alt=\"Open In Colab\"/></a>"
      ]
    },
    {
      "cell_type": "code",
      "execution_count": null,
      "metadata": {
        "id": "mFcYhIUtR7iB"
      },
      "outputs": [],
      "source": [
        "import pandas as pd\n",
        "import numpy as np\n",
        "import statistics as st\n",
        "import matplotlib.pyplot as plt\n",
        "from sklearn.tree import DecisionTreeRegressor as DTR\n",
        "from sklearn.model_selection import train_test_split \n",
        "from sklearn.metrics import mean_squared_error as MSE"
      ]
    },
    {
      "cell_type": "code",
      "source": [
        "# load dataset\n",
        "data = pd.read_csv('https://raw.githubusercontent.com/Harsaroop/COMP-3710-Project-2/main/Bias_correction_ucl%20-%20Copy.csv')\n",
        "data = data.round(decimals = 3)\n",
        "data = data.dropna()\n",
        "\n",
        "#dropping date as not needed in analysis \n",
        "data = data.drop('Date' ,axis = 1)"
      ],
      "metadata": {
        "id": "hXuzt09tSz3_"
      },
      "execution_count": null,
      "outputs": []
    },
    {
      "cell_type": "code",
      "source": [
        "X = data[:].drop(['Present_Tmax'], axis = 1)\n",
        "y = data['Present_Tmax']"
      ],
      "metadata": {
        "id": "TIaQqmDRS_Jl"
      },
      "execution_count": null,
      "outputs": []
    },
    {
      "cell_type": "code",
      "source": [
        "# split into input (X) and output (Y) variables\n",
        "train_X, test_X, train_y, test_y = train_test_split(X,y, test_size=0.2)\n",
        "#for i in range(len(train_X)):\n",
        "print(train_X.shape, train_y.shape)"
      ],
      "metadata": {
        "colab": {
          "base_uri": "https://localhost:8080/"
        },
        "id": "87FmXaXJTEUO",
        "outputId": "0cc6c4b2-96cf-4e5a-d2fc-a96b149b2e4c"
      },
      "execution_count": null,
      "outputs": [
        {
          "output_type": "stream",
          "name": "stdout",
          "text": [
            "(6200, 23) (6200,)\n"
          ]
        }
      ]
    },
    {
      "cell_type": "code",
      "source": [
        "dt = DTR(max_depth=10, \n",
        "         min_samples_leaf=0.005,\n",
        "         random_state=5)"
      ],
      "metadata": {
        "id": "GqqJ1Q8TTI_G"
      },
      "execution_count": null,
      "outputs": []
    },
    {
      "cell_type": "code",
      "source": [
        "dt.fit(train_X, train_y)"
      ],
      "metadata": {
        "colab": {
          "base_uri": "https://localhost:8080/"
        },
        "id": "2jlcoH5PTg_3",
        "outputId": "ea61831d-fe1d-43f6-b3ea-4e79f4038c46"
      },
      "execution_count": null,
      "outputs": [
        {
          "output_type": "execute_result",
          "data": {
            "text/plain": [
              "DecisionTreeRegressor(max_depth=10, min_samples_leaf=0.005, random_state=5)"
            ]
          },
          "metadata": {},
          "execution_count": 41
        }
      ]
    },
    {
      "cell_type": "code",
      "source": [
        "Y_pred = dt.predict(test_X)"
      ],
      "metadata": {
        "id": "6_LbyXNFTshF"
      },
      "execution_count": null,
      "outputs": []
    },
    {
      "cell_type": "code",
      "source": [
        "from matplotlib import test\n",
        "mse_dt = MSE(test_y, Y_pred)\n",
        "rmse_dt = mse_dt**(1/2)\n",
        "print(rmse_dt)\n",
        "#Plotting Graph\n",
        "plt.plot(test_X, test_y, 'r.')\n",
        "plt.plot(test_X, Y_pred, 'b.')\n",
        "plt.show()"
      ],
      "metadata": {
        "colab": {
          "base_uri": "https://localhost:8080/",
          "height": 282
        },
        "id": "jqTBKCTwU7U9",
        "outputId": "5c2878f1-6a50-4a68-f6e1-681bd8698c31"
      },
      "execution_count": null,
      "outputs": [
        {
          "output_type": "stream",
          "name": "stdout",
          "text": [
            "1.7675182980834325\n"
          ]
        },
        {
          "output_type": "display_data",
          "data": {
            "text/plain": [
              "<Figure size 432x288 with 1 Axes>"
            ],
            "image/png": "[encoded data removed]"
          },
          "metadata": {
            "needs_background": "light"
          }
        }
      ]
    },
    {
      "cell_type": "code",
      "source": [
        "|"
      ],
      "metadata": {
        "id": "IjWpl-q4VCrl"
      },
      "execution_count": null,
      "outputs": []
    }
  ]
}