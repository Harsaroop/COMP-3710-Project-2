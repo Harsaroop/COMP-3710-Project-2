{
  "cells": [
    {
      "cell_type": "markdown",
      "metadata": {
        "colab_type": "text",
        "id": "view-in-github"
      },
      "source": [
        "<a href=\"https://colab.research.google.com/github/Harsaroop/COMP-3710-Project-2/blob/main/MultiplelinearRegression.ipynb\" target=\"_parent\"><img src=\"https://colab.research.google.com/assets/colab-badge.svg\" alt=\"Open In Colab\"/></a>"
      ]
    },
    {
      "cell_type": "markdown",
      "metadata": {
        "id": "QdBLMazgstf_"
      },
      "source": [
        "# Simple Linear Regression"
      ]
    },
    {
      "cell_type": "code",
      "execution_count": 10,
      "metadata": {
        "id": "f5gKqb1gG0-W"
      },
      "outputs": [],
      "source": [
        "import tensorflow as tf\n",
        "import numpy as np\n",
        "import pandas as pd\n",
        "import seaborn as sns\n",
        "from sklearn import linear_model\n",
        "from sklearn.linear_model import LinearRegression\n"
      ]
    },
    {
      "cell_type": "code",
      "execution_count": 11,
      "metadata": {
        "id": "SpmPK_I3HaKU"
      },
      "outputs": [],
      "source": [
        "#Load Dataset \n",
        "df = pd.read_csv('Bias_correction_ucl - Copy.csv', nrows=5000)\n",
        "data = df.round(decimals=3)"
      ]
    },
    {
      "cell_type": "code",
      "execution_count": 12,
      "metadata": {
        "colab": {
          "base_uri": "https://localhost:8080/",
          "height": 403
        },
        "id": "6aKg305sH7jF",
        "outputId": "0acc9250-b836-4579-e519-ad39891eb573"
      },
      "outputs": [
        {
          "data": {
            "text/html": [
              "<div>\n",
              "<style scoped>\n",
              "    .dataframe tbody tr th:only-of-type {\n",
              "        vertical-align: middle;\n",
              "    }\n",
              "\n",
              "    .dataframe tbody tr th {\n",
              "        vertical-align: top;\n",
              "    }\n",
              "\n",
              "    .dataframe thead th {\n",
              "        text-align: right;\n",
              "    }\n",
              "</style>\n",
              "<table border=\"1\" class=\"dataframe\">\n",
              "  <thead>\n",
              "    <tr style=\"text-align: right;\">\n",
              "      <th></th>\n",
              "      <th>station</th>\n",
              "      <th>Date</th>\n",
              "      <th>Present_Tmax</th>\n",
              "      <th>Present_Tmin</th>\n",
              "      <th>LDAPS_RHmin</th>\n",
              "      <th>LDAPS_RHmax</th>\n",
              "      <th>LDAPS_Tmax_lapse</th>\n",
              "      <th>LDAPS_Tmin_lapse</th>\n",
              "      <th>LDAPS_WS</th>\n",
              "      <th>LDAPS_LH</th>\n",
              "      <th>...</th>\n",
              "      <th>LDAPS_PPT2</th>\n",
              "      <th>LDAPS_PPT3</th>\n",
              "      <th>LDAPS_PPT4</th>\n",
              "      <th>lat</th>\n",
              "      <th>lon</th>\n",
              "      <th>DEM</th>\n",
              "      <th>Slope</th>\n",
              "      <th>Solar radiation</th>\n",
              "      <th>Next_Tmax</th>\n",
              "      <th>Next_Tmin</th>\n",
              "    </tr>\n",
              "  </thead>\n",
              "  <tbody>\n",
              "    <tr>\n",
              "      <th>0</th>\n",
              "      <td>1</td>\n",
              "      <td>2013-06-30</td>\n",
              "      <td>28.7</td>\n",
              "      <td>21.4</td>\n",
              "      <td>58.256</td>\n",
              "      <td>91.116</td>\n",
              "      <td>28.074</td>\n",
              "      <td>23.007</td>\n",
              "      <td>6.819</td>\n",
              "      <td>69.452</td>\n",
              "      <td>...</td>\n",
              "      <td>0.0</td>\n",
              "      <td>0.0</td>\n",
              "      <td>0.0</td>\n",
              "      <td>37.605</td>\n",
              "      <td>126.991</td>\n",
              "      <td>212.335</td>\n",
              "      <td>2.785</td>\n",
              "      <td>5992.896</td>\n",
              "      <td>29.1</td>\n",
              "      <td>21.2</td>\n",
              "    </tr>\n",
              "    <tr>\n",
              "      <th>1</th>\n",
              "      <td>2</td>\n",
              "      <td>2013-06-30</td>\n",
              "      <td>31.9</td>\n",
              "      <td>21.6</td>\n",
              "      <td>52.263</td>\n",
              "      <td>90.605</td>\n",
              "      <td>29.851</td>\n",
              "      <td>24.035</td>\n",
              "      <td>5.692</td>\n",
              "      <td>51.937</td>\n",
              "      <td>...</td>\n",
              "      <td>0.0</td>\n",
              "      <td>0.0</td>\n",
              "      <td>0.0</td>\n",
              "      <td>37.605</td>\n",
              "      <td>127.032</td>\n",
              "      <td>44.762</td>\n",
              "      <td>0.514</td>\n",
              "      <td>5869.312</td>\n",
              "      <td>30.5</td>\n",
              "      <td>22.5</td>\n",
              "    </tr>\n",
              "    <tr>\n",
              "      <th>2</th>\n",
              "      <td>3</td>\n",
              "      <td>2013-06-30</td>\n",
              "      <td>31.6</td>\n",
              "      <td>23.3</td>\n",
              "      <td>48.690</td>\n",
              "      <td>83.974</td>\n",
              "      <td>30.091</td>\n",
              "      <td>24.566</td>\n",
              "      <td>6.138</td>\n",
              "      <td>20.573</td>\n",
              "      <td>...</td>\n",
              "      <td>0.0</td>\n",
              "      <td>0.0</td>\n",
              "      <td>0.0</td>\n",
              "      <td>37.578</td>\n",
              "      <td>127.058</td>\n",
              "      <td>33.307</td>\n",
              "      <td>0.266</td>\n",
              "      <td>5863.556</td>\n",
              "      <td>31.1</td>\n",
              "      <td>23.9</td>\n",
              "    </tr>\n",
              "    <tr>\n",
              "      <th>3</th>\n",
              "      <td>4</td>\n",
              "      <td>2013-06-30</td>\n",
              "      <td>32.0</td>\n",
              "      <td>23.4</td>\n",
              "      <td>58.240</td>\n",
              "      <td>96.484</td>\n",
              "      <td>29.705</td>\n",
              "      <td>23.326</td>\n",
              "      <td>5.650</td>\n",
              "      <td>65.727</td>\n",
              "      <td>...</td>\n",
              "      <td>0.0</td>\n",
              "      <td>0.0</td>\n",
              "      <td>0.0</td>\n",
              "      <td>37.645</td>\n",
              "      <td>127.022</td>\n",
              "      <td>45.716</td>\n",
              "      <td>2.535</td>\n",
              "      <td>5856.965</td>\n",
              "      <td>31.7</td>\n",
              "      <td>24.3</td>\n",
              "    </tr>\n",
              "    <tr>\n",
              "      <th>4</th>\n",
              "      <td>5</td>\n",
              "      <td>2013-06-30</td>\n",
              "      <td>31.4</td>\n",
              "      <td>21.9</td>\n",
              "      <td>56.174</td>\n",
              "      <td>90.155</td>\n",
              "      <td>29.114</td>\n",
              "      <td>23.486</td>\n",
              "      <td>5.735</td>\n",
              "      <td>107.966</td>\n",
              "      <td>...</td>\n",
              "      <td>0.0</td>\n",
              "      <td>0.0</td>\n",
              "      <td>0.0</td>\n",
              "      <td>37.551</td>\n",
              "      <td>127.135</td>\n",
              "      <td>35.038</td>\n",
              "      <td>0.505</td>\n",
              "      <td>5859.552</td>\n",
              "      <td>31.2</td>\n",
              "      <td>22.5</td>\n",
              "    </tr>\n",
              "  </tbody>\n",
              "</table>\n",
              "<p>5 rows × 25 columns</p>\n",
              "</div>"
            ],
            "text/plain": [
              "   station        Date  Present_Tmax  Present_Tmin  LDAPS_RHmin  LDAPS_RHmax  \\\n",
              "0        1  2013-06-30          28.7          21.4       58.256       91.116   \n",
              "1        2  2013-06-30          31.9          21.6       52.263       90.605   \n",
              "2        3  2013-06-30          31.6          23.3       48.690       83.974   \n",
              "3        4  2013-06-30          32.0          23.4       58.240       96.484   \n",
              "4        5  2013-06-30          31.4          21.9       56.174       90.155   \n",
              "\n",
              "   LDAPS_Tmax_lapse  LDAPS_Tmin_lapse  LDAPS_WS  LDAPS_LH  ...  LDAPS_PPT2  \\\n",
              "0            28.074            23.007     6.819    69.452  ...         0.0   \n",
              "1            29.851            24.035     5.692    51.937  ...         0.0   \n",
              "2            30.091            24.566     6.138    20.573  ...         0.0   \n",
              "3            29.705            23.326     5.650    65.727  ...         0.0   \n",
              "4            29.114            23.486     5.735   107.966  ...         0.0   \n",
              "\n",
              "   LDAPS_PPT3  LDAPS_PPT4     lat      lon      DEM  Slope  Solar radiation  \\\n",
              "0         0.0         0.0  37.605  126.991  212.335  2.785         5992.896   \n",
              "1         0.0         0.0  37.605  127.032   44.762  0.514         5869.312   \n",
              "2         0.0         0.0  37.578  127.058   33.307  0.266         5863.556   \n",
              "3         0.0         0.0  37.645  127.022   45.716  2.535         5856.965   \n",
              "4         0.0         0.0  37.551  127.135   35.038  0.505         5859.552   \n",
              "\n",
              "   Next_Tmax  Next_Tmin  \n",
              "0       29.1       21.2  \n",
              "1       30.5       22.5  \n",
              "2       31.1       23.9  \n",
              "3       31.7       24.3  \n",
              "4       31.2       22.5  \n",
              "\n",
              "[5 rows x 25 columns]"
            ]
          },
          "execution_count": 12,
          "metadata": {},
          "output_type": "execute_result"
        }
      ],
      "source": [
        "data.head()"
      ]
    },
    {
      "cell_type": "code",
      "execution_count": 13,
      "metadata": {
        "colab": {
          "base_uri": "https://localhost:8080/",
          "height": 270
        },
        "id": "0UNAILEOtOay",
        "outputId": "57b9e1da-965e-4f7c-e217-67ba81f86e5f"
      },
      "outputs": [
        {
          "data": {
            "image/png": "[encoded data removed]",
            "text/plain": [
              "<Figure size 432x288 with 2 Axes>"
            ]
          },
          "metadata": {
            "needs_background": "light"
          },
          "output_type": "display_data"
        }
      ],
      "source": [
        "#Correlation Heatmap\n",
        "viz = sns.heatmap(data[['Present_Tmax', 'Next_Tmax']].corr(), annot = True)"
      ]
    },
    {
      "cell_type": "markdown",
      "metadata": {
        "id": "ti4M6FOGtycr"
      },
      "source": [
        "The correlation signs varies between -1.0 and 1.0 . Signs indicates its positive correlation or negative correlation."
      ]
    },
    {
      "cell_type": "code",
      "execution_count": 14,
      "metadata": {
        "colab": {
          "base_uri": "https://localhost:8080/",
          "height": 513
        },
        "id": "CPMMxd6XIaVF",
        "outputId": "e47e70d9-651b-40ec-c223-5c9ca7e5c56d"
      },
      "outputs": [
        {
          "name": "stdout",
          "output_type": "stream",
          "text": [
            "(5000, 2)\n",
            "(5000,)\n"
          ]
        },
        {
          "data": {
            "text/html": [
              "<div>\n",
              "<style scoped>\n",
              "    .dataframe tbody tr th:only-of-type {\n",
              "        vertical-align: middle;\n",
              "    }\n",
              "\n",
              "    .dataframe tbody tr th {\n",
              "        vertical-align: top;\n",
              "    }\n",
              "\n",
              "    .dataframe thead th {\n",
              "        text-align: right;\n",
              "    }\n",
              "</style>\n",
              "<table border=\"1\" class=\"dataframe\">\n",
              "  <thead>\n",
              "    <tr style=\"text-align: right;\">\n",
              "      <th></th>\n",
              "      <th>const</th>\n",
              "      <th>Present_Tmax</th>\n",
              "    </tr>\n",
              "  </thead>\n",
              "  <tbody>\n",
              "    <tr>\n",
              "      <th>0</th>\n",
              "      <td>1.0</td>\n",
              "      <td>28.7</td>\n",
              "    </tr>\n",
              "    <tr>\n",
              "      <th>1</th>\n",
              "      <td>1.0</td>\n",
              "      <td>31.9</td>\n",
              "    </tr>\n",
              "    <tr>\n",
              "      <th>2</th>\n",
              "      <td>1.0</td>\n",
              "      <td>31.6</td>\n",
              "    </tr>\n",
              "    <tr>\n",
              "      <th>3</th>\n",
              "      <td>1.0</td>\n",
              "      <td>32.0</td>\n",
              "    </tr>\n",
              "    <tr>\n",
              "      <th>4</th>\n",
              "      <td>1.0</td>\n",
              "      <td>31.4</td>\n",
              "    </tr>\n",
              "    <tr>\n",
              "      <th>...</th>\n",
              "      <td>...</td>\n",
              "      <td>...</td>\n",
              "    </tr>\n",
              "    <tr>\n",
              "      <th>4995</th>\n",
              "      <td>1.0</td>\n",
              "      <td>29.4</td>\n",
              "    </tr>\n",
              "    <tr>\n",
              "      <th>4996</th>\n",
              "      <td>1.0</td>\n",
              "      <td>30.5</td>\n",
              "    </tr>\n",
              "    <tr>\n",
              "      <th>4997</th>\n",
              "      <td>1.0</td>\n",
              "      <td>29.9</td>\n",
              "    </tr>\n",
              "    <tr>\n",
              "      <th>4998</th>\n",
              "      <td>1.0</td>\n",
              "      <td>29.8</td>\n",
              "    </tr>\n",
              "    <tr>\n",
              "      <th>4999</th>\n",
              "      <td>1.0</td>\n",
              "      <td>29.7</td>\n",
              "    </tr>\n",
              "  </tbody>\n",
              "</table>\n",
              "<p>5000 rows × 2 columns</p>\n",
              "</div>"
            ],
            "text/plain": [
              "      const  Present_Tmax\n",
              "0       1.0          28.7\n",
              "1       1.0          31.9\n",
              "2       1.0          31.6\n",
              "3       1.0          32.0\n",
              "4       1.0          31.4\n",
              "...     ...           ...\n",
              "4995    1.0          29.4\n",
              "4996    1.0          30.5\n",
              "4997    1.0          29.9\n",
              "4998    1.0          29.8\n",
              "4999    1.0          29.7\n",
              "\n",
              "[5000 rows x 2 columns]"
            ]
          },
          "execution_count": 14,
          "metadata": {},
          "output_type": "execute_result"
        }
      ],
      "source": [
        "import statsmodels.api as sm\n",
        "x = sm.add_constant(data['Present_Tmax'])\n",
        "y = data['Next_Tmax']\n",
        "print(x.shape)\n",
        "print(y.shape)\n",
        "x"
      ]
    },
    {
      "cell_type": "code",
      "execution_count": 15,
      "metadata": {
        "colab": {
          "base_uri": "https://localhost:8080/"
        },
        "id": "rBhKbPLdvBDE",
        "outputId": "5568c666-6558-427e-865c-b4fa931a48bb"
      },
      "outputs": [
        {
          "name": "stdout",
          "output_type": "stream",
          "text": [
            "0       29.1\n",
            "1       30.5\n",
            "2       31.1\n",
            "3       31.7\n",
            "4       31.2\n",
            "        ... \n",
            "4995    31.4\n",
            "4996    32.3\n",
            "4997    33.6\n",
            "4998    32.6\n",
            "4999    32.5\n",
            "Name: Next_Tmax, Length: 5000, dtype: float64\n"
          ]
        }
      ],
      "source": [
        "print(y)"
      ]
    },
    {
      "cell_type": "code",
      "execution_count": 16,
      "metadata": {
        "colab": {
          "base_uri": "https://localhost:8080/"
        },
        "id": "Pb8PNUq4JIT1",
        "outputId": "554cbf24-7962-4b7e-abf6-26a10299522b"
      },
      "outputs": [
        {
          "name": "stdout",
          "output_type": "stream",
          "text": [
            "(3500, 2)\n",
            "(1500, 2)\n",
            "(3500,)\n",
            "(1500,)\n"
          ]
        }
      ],
      "source": [
        "#Spilt data into train and test\n",
        "from sklearn.model_selection import train_test_split\n",
        "x_train, x_test, y_train, y_test = train_test_split(x,y, train_size=0.7, test_size=0.3, random_state=100)\n",
        "\n",
        "print(x_train.shape)\n",
        "print(x_test.shape)\n",
        "print(y_train.shape)\n",
        "print(y_test.shape)"
      ]
    },
    {
      "cell_type": "code",
      "execution_count": 17,
      "metadata": {
        "id": "qO9Ax75CJs0-"
      },
      "outputs": [],
      "source": [
        "#Fitting the model\n",
        "import statsmodels.api as sm\n",
        "ml = sm.OLS(y_train,x_train).fit()\n",
        "#  or \n",
        "# ml = LinearRegression(fit_intercept=True)\n",
        "# model = ml.fit(x_train, y_train)"
      ]
    },
    {
      "cell_type": "code",
      "execution_count": 18,
      "metadata": {
        "colab": {
          "base_uri": "https://localhost:8080/"
        },
        "id": "gjkbqf3hwHCK",
        "outputId": "886859a0-d86d-4ba4-8f4d-ea5c819a6f5f"
      },
      "outputs": [],
      "source": [
        "#ml.coef_"
      ]
    },
    {
      "cell_type": "code",
      "execution_count": 19,
      "metadata": {
        "colab": {
          "base_uri": "https://localhost:8080/"
        },
        "id": "9jRZFJziwZgL",
        "outputId": "0c459284-f79e-42c2-834e-9f1f42de0955"
      },
      "outputs": [],
      "source": [
        "#ml.intercept_"
      ]
    },
    {
      "cell_type": "code",
      "execution_count": 20,
      "metadata": {
        "colab": {
          "base_uri": "https://localhost:8080/"
        },
        "id": "fatGa2FDweeT",
        "outputId": "cd1eba9c-2aac-46ea-8e46-fd0fb4cbd05f"
      },
      "outputs": [
        {
          "name": "stdout",
          "output_type": "stream",
          "text": [
            "const           17.925782\n",
            "Present_Tmax     0.409828\n",
            "dtype: float64\n"
          ]
        }
      ],
      "source": [
        "#Print parameters\n",
        "print(ml.params)"
      ]
    },
    {
      "cell_type": "code",
      "execution_count": 21,
      "metadata": {
        "colab": {
          "base_uri": "https://localhost:8080/",
          "height": 315
        },
        "id": "DnI466xkx-iT",
        "outputId": "8b4de96e-26cf-4911-8fc2-346c9a925dc9"
      },
      "outputs": [
        {
          "data": {
            "text/html": [
              "<table class=\"simpletable\">\n",
              "<tr>\n",
              "        <td>Model:</td>               <td>OLS</td>         <td>Adj. R-squared:</td>      <td>0.202</td>  \n",
              "</tr>\n",
              "<tr>\n",
              "  <td>Dependent Variable:</td>     <td>Next_Tmax</td>           <td>AIC:</td>         <td>17298.5258</td>\n",
              "</tr>\n",
              "<tr>\n",
              "         <td>Date:</td>        <td>2022-04-23 15:35</td>        <td>BIC:</td>         <td>17310.8469</td>\n",
              "</tr>\n",
              "<tr>\n",
              "   <td>No. Observations:</td>        <td>3500</td>         <td>Log-Likelihood:</td>     <td>-8647.3</td> \n",
              "</tr>\n",
              "<tr>\n",
              "       <td>Df Model:</td>              <td>1</td>           <td>F-statistic:</td>        <td>885.6</td>  \n",
              "</tr>\n",
              "<tr>\n",
              "     <td>Df Residuals:</td>          <td>3498</td>       <td>Prob (F-statistic):</td>  <td>1.13e-173</td>\n",
              "</tr>\n",
              "<tr>\n",
              "      <td>R-squared:</td>            <td>0.202</td>            <td>Scale:</td>          <td>8.1988</td>  \n",
              "</tr>\n",
              "</table>\n",
              "<table class=\"simpletable\">\n",
              "<tr>\n",
              "        <td></td>        <th>Coef.</th>  <th>Std.Err.</th>    <th>t</th>     <th>P>|t|</th> <th>[0.025</th>  <th>0.975]</th> \n",
              "</tr>\n",
              "<tr>\n",
              "  <th>const</th>        <td>17.9258</td>  <td>0.4063</td>  <td>44.1170</td> <td>0.0000</td> <td>17.1291</td> <td>18.7224</td>\n",
              "</tr>\n",
              "<tr>\n",
              "  <th>Present_Tmax</th> <td>0.4098</td>   <td>0.0138</td>  <td>29.7593</td> <td>0.0000</td> <td>0.3828</td>  <td>0.4368</td> \n",
              "</tr>\n",
              "</table>\n",
              "<table class=\"simpletable\">\n",
              "<tr>\n",
              "     <td>Omnibus:</td>    <td>2015.786</td>  <td>Durbin-Watson:</td>     <td>2.029</td>  \n",
              "</tr>\n",
              "<tr>\n",
              "  <td>Prob(Omnibus):</td>   <td>0.000</td>  <td>Jarque-Bera (JB):</td> <td>77920.900</td>\n",
              "</tr>\n",
              "<tr>\n",
              "       <td>Skew:</td>      <td>-2.110</td>      <td>Prob(JB):</td>       <td>0.000</td>  \n",
              "</tr>\n",
              "<tr>\n",
              "     <td>Kurtosis:</td>    <td>25.727</td>   <td>Condition No.:</td>      <td>248</td>   \n",
              "</tr>\n",
              "</table>"
            ],
            "text/plain": [
              "<class 'statsmodels.iolib.summary2.Summary'>\n",
              "\"\"\"\n",
              "                  Results: Ordinary least squares\n",
              "===================================================================\n",
              "Model:              OLS              Adj. R-squared:     0.202     \n",
              "Dependent Variable: Next_Tmax        AIC:                17298.5258\n",
              "Date:               2022-04-23 15:35 BIC:                17310.8469\n",
              "No. Observations:   3500             Log-Likelihood:     -8647.3   \n",
              "Df Model:           1                F-statistic:        885.6     \n",
              "Df Residuals:       3498             Prob (F-statistic): 1.13e-173 \n",
              "R-squared:          0.202            Scale:              8.1988    \n",
              "--------------------------------------------------------------------\n",
              "                 Coef.   Std.Err.     t     P>|t|    [0.025   0.975]\n",
              "--------------------------------------------------------------------\n",
              "const           17.9258    0.4063  44.1170  0.0000  17.1291  18.7224\n",
              "Present_Tmax     0.4098    0.0138  29.7593  0.0000   0.3828   0.4368\n",
              "-------------------------------------------------------------------\n",
              "Omnibus:             2015.786      Durbin-Watson:         2.029    \n",
              "Prob(Omnibus):       0.000         Jarque-Bera (JB):      77920.900\n",
              "Skew:                -2.110        Prob(JB):              0.000    \n",
              "Kurtosis:            25.727        Condition No.:         248      \n",
              "===================================================================\n",
              "\n",
              "\"\"\""
            ]
          },
          "execution_count": 21,
          "metadata": {},
          "output_type": "execute_result"
        }
      ],
      "source": [
        "ml.summary2()"
      ]
    },
    {
      "cell_type": "code",
      "execution_count": 22,
      "metadata": {
        "id": "RDTOIEzUKjz3"
      },
      "outputs": [],
      "source": [
        "#Predict values of test dataset\n",
        "y_pred_test = ml.predict(x_test)\n",
        "y_pred_train = ml.predict(x_train)"
      ]
    },
    {
      "cell_type": "code",
      "execution_count": 23,
      "metadata": {
        "colab": {
          "base_uri": "https://localhost:8080/"
        },
        "id": "X9hHNnLK2hOP",
        "outputId": "7ddfdc72-5d29-4c5e-f929-072dce7aba93"
      },
      "outputs": [
        {
          "data": {
            "text/plain": [
              "0.20202866450564405"
            ]
          },
          "execution_count": 23,
          "metadata": {},
          "output_type": "execute_result"
        }
      ],
      "source": [
        "from sklearn.metrics import r2_score\n",
        "np.abs(r2_score(y_train,y_pred_train))"
      ]
    },
    {
      "cell_type": "code",
      "execution_count": 24,
      "metadata": {
        "colab": {
          "base_uri": "https://localhost:8080/"
        },
        "id": "1k07J3zw629q",
        "outputId": "cbc70ce9-830b-43bd-e88e-34928aaa0cdb"
      },
      "outputs": [
        {
          "data": {
            "text/plain": [
              "0.24718334448873525"
            ]
          },
          "execution_count": 24,
          "metadata": {},
          "output_type": "execute_result"
        }
      ],
      "source": [
        "r2_score(y_test,y_pred_test)"
      ]
    },
    {
      "cell_type": "code",
      "execution_count": 25,
      "metadata": {
        "colab": {
          "base_uri": "https://localhost:8080/"
        },
        "id": "hHVqrnRz2xaO",
        "outputId": "351d703c-64b2-429e-cbb9-604e863c80cd"
      },
      "outputs": [
        {
          "data": {
            "text/plain": [
              "2.6349475069042474"
            ]
          },
          "execution_count": 25,
          "metadata": {},
          "output_type": "execute_result"
        }
      ],
      "source": [
        "#Calculate Root mean square error\n",
        "from sklearn.metrics import mean_squared_error\n",
        "np.sqrt(mean_squared_error(y_test,y_pred_test))"
      ]
    },
    {
      "cell_type": "code",
      "execution_count": 26,
      "metadata": {
        "colab": {
          "base_uri": "https://localhost:8080/",
          "height": 623
        },
        "id": "wIKfVKv_7Z86",
        "outputId": "959340b0-2b38-4646-a81a-deb9caa4c7cf"
      },
      "outputs": [
        {
          "name": "stderr",
          "output_type": "stream",
          "text": [
            "C:\\Users\\HARNOO~1\\AppData\\Local\\Temp/ipykernel_26652/2269311997.py:4: UserWarning: color is redundantly defined by the 'color' keyword argument and the fmt string \"k--\" (-> color='k'). The keyword argument will take precedence.\n",
            "  plt.plot([y_train.min(), y_train.max()],[y_train.min(), y_train.max()],'k--', color='g', lw=3)\n"
          ]
        },
        {
          "data": {
            "text/plain": [
              "Text(0, 0.5, 'Predicted')"
            ]
          },
          "execution_count": 26,
          "metadata": {},
          "output_type": "execute_result"
        },
        {
          "data": {
            "image/png": "[encoded data removed]",
            "text/plain": [
              "<Figure size 1080x720 with 1 Axes>"
            ]
          },
          "metadata": {
            "needs_background": "light"
          },
          "output_type": "display_data"
        }
      ],
      "source": [
        "import matplotlib.pyplot as plt\n",
        "plt.figure(figsize=(15,10))\n",
        "plt.scatter(y_test, y_pred_test, color = 'b')\n",
        "plt.plot([y_train.min(), y_train.max()],[y_train.min(), y_train.max()],'k--', color='g', lw=3)\n",
        "plt.xlabel('Actual')\n",
        "plt.ylabel('Predicted')"
      ]
    },
    {
      "cell_type": "code",
      "execution_count": 27,
      "metadata": {
        "colab": {
          "base_uri": "https://localhost:8080/",
          "height": 676
        },
        "id": "dNL0m8-R8IOj",
        "outputId": "0fe75254-f8c3-4d71-9b63-aaedbcbd1526"
      },
      "outputs": [
        {
          "data": {
            "text/html": [
              "<div>\n",
              "<style scoped>\n",
              "    .dataframe tbody tr th:only-of-type {\n",
              "        vertical-align: middle;\n",
              "    }\n",
              "\n",
              "    .dataframe tbody tr th {\n",
              "        vertical-align: top;\n",
              "    }\n",
              "\n",
              "    .dataframe thead th {\n",
              "        text-align: right;\n",
              "    }\n",
              "</style>\n",
              "<table border=\"1\" class=\"dataframe\">\n",
              "  <thead>\n",
              "    <tr style=\"text-align: right;\">\n",
              "      <th></th>\n",
              "      <th>Actual Value</th>\n",
              "      <th>Predicted Value</th>\n",
              "      <th>Difference</th>\n",
              "    </tr>\n",
              "  </thead>\n",
              "  <tbody>\n",
              "    <tr>\n",
              "      <th>789</th>\n",
              "      <td>32.3</td>\n",
              "      <td>29.687846</td>\n",
              "      <td>2.612154</td>\n",
              "    </tr>\n",
              "    <tr>\n",
              "      <th>2507</th>\n",
              "      <td>30.6</td>\n",
              "      <td>28.540328</td>\n",
              "      <td>2.059672</td>\n",
              "    </tr>\n",
              "    <tr>\n",
              "      <th>2376</th>\n",
              "      <td>29.9</td>\n",
              "      <td>32.023866</td>\n",
              "      <td>-2.123866</td>\n",
              "    </tr>\n",
              "    <tr>\n",
              "      <th>1378</th>\n",
              "      <td>32.9</td>\n",
              "      <td>30.999296</td>\n",
              "      <td>1.900704</td>\n",
              "    </tr>\n",
              "    <tr>\n",
              "      <th>598</th>\n",
              "      <td>28.4</td>\n",
              "      <td>28.950156</td>\n",
              "      <td>-0.550156</td>\n",
              "    </tr>\n",
              "    <tr>\n",
              "      <th>1589</th>\n",
              "      <td>31.0</td>\n",
              "      <td>30.794382</td>\n",
              "      <td>0.205618</td>\n",
              "    </tr>\n",
              "    <tr>\n",
              "      <th>2580</th>\n",
              "      <td>28.4</td>\n",
              "      <td>29.400966</td>\n",
              "      <td>-1.000966</td>\n",
              "    </tr>\n",
              "    <tr>\n",
              "      <th>366</th>\n",
              "      <td>29.2</td>\n",
              "      <td>28.253448</td>\n",
              "      <td>0.946552</td>\n",
              "    </tr>\n",
              "    <tr>\n",
              "      <th>2320</th>\n",
              "      <td>33.3</td>\n",
              "      <td>30.999296</td>\n",
              "      <td>2.300704</td>\n",
              "    </tr>\n",
              "    <tr>\n",
              "      <th>1247</th>\n",
              "      <td>34.3</td>\n",
              "      <td>30.958313</td>\n",
              "      <td>3.341687</td>\n",
              "    </tr>\n",
              "    <tr>\n",
              "      <th>2224</th>\n",
              "      <td>31.2</td>\n",
              "      <td>29.278018</td>\n",
              "      <td>1.921982</td>\n",
              "    </tr>\n",
              "    <tr>\n",
              "      <th>3615</th>\n",
              "      <td>28.5</td>\n",
              "      <td>29.687846</td>\n",
              "      <td>-1.187846</td>\n",
              "    </tr>\n",
              "    <tr>\n",
              "      <th>4176</th>\n",
              "      <td>30.2</td>\n",
              "      <td>30.999296</td>\n",
              "      <td>-0.799296</td>\n",
              "    </tr>\n",
              "    <tr>\n",
              "      <th>1640</th>\n",
              "      <td>31.8</td>\n",
              "      <td>27.556740</td>\n",
              "      <td>4.243260</td>\n",
              "    </tr>\n",
              "    <tr>\n",
              "      <th>1136</th>\n",
              "      <td>33.7</td>\n",
              "      <td>31.450107</td>\n",
              "      <td>2.249893</td>\n",
              "    </tr>\n",
              "    <tr>\n",
              "      <th>3437</th>\n",
              "      <td>31.7</td>\n",
              "      <td>28.130500</td>\n",
              "      <td>3.569500</td>\n",
              "    </tr>\n",
              "    <tr>\n",
              "      <th>4448</th>\n",
              "      <td>32.5</td>\n",
              "      <td>29.974726</td>\n",
              "      <td>2.525274</td>\n",
              "    </tr>\n",
              "    <tr>\n",
              "      <th>1188</th>\n",
              "      <td>32.2</td>\n",
              "      <td>31.163227</td>\n",
              "      <td>1.036773</td>\n",
              "    </tr>\n",
              "    <tr>\n",
              "      <th>3332</th>\n",
              "      <td>33.5</td>\n",
              "      <td>30.179640</td>\n",
              "      <td>3.320360</td>\n",
              "    </tr>\n",
              "    <tr>\n",
              "      <th>1080</th>\n",
              "      <td>33.9</td>\n",
              "      <td>31.736986</td>\n",
              "      <td>2.163014</td>\n",
              "    </tr>\n",
              "  </tbody>\n",
              "</table>\n",
              "</div>"
            ],
            "text/plain": [
              "      Actual Value  Predicted Value  Difference\n",
              "789           32.3        29.687846    2.612154\n",
              "2507          30.6        28.540328    2.059672\n",
              "2376          29.9        32.023866   -2.123866\n",
              "1378          32.9        30.999296    1.900704\n",
              "598           28.4        28.950156   -0.550156\n",
              "1589          31.0        30.794382    0.205618\n",
              "2580          28.4        29.400966   -1.000966\n",
              "366           29.2        28.253448    0.946552\n",
              "2320          33.3        30.999296    2.300704\n",
              "1247          34.3        30.958313    3.341687\n",
              "2224          31.2        29.278018    1.921982\n",
              "3615          28.5        29.687846   -1.187846\n",
              "4176          30.2        30.999296   -0.799296\n",
              "1640          31.8        27.556740    4.243260\n",
              "1136          33.7        31.450107    2.249893\n",
              "3437          31.7        28.130500    3.569500\n",
              "4448          32.5        29.974726    2.525274\n",
              "1188          32.2        31.163227    1.036773\n",
              "3332          33.5        30.179640    3.320360\n",
              "1080          33.9        31.736986    2.163014"
            ]
          },
          "execution_count": 27,
          "metadata": {},
          "output_type": "execute_result"
        }
      ],
      "source": [
        "pred_val = pd.DataFrame({'Actual Value': y_test, 'Predicted Value': y_pred_test, 'Difference':y_test-y_pred_test})\n",
        "pred_val[0:20]"
      ]
    }
  ],
  "metadata": {
    "colab": {
      "authorship_tag": "ABX9TyO1QT+jpd8hsvYtxSQuk8tj",
      "collapsed_sections": [],
      "include_colab_link": true,
      "name": "MultiplelinearRegression.ipynb",
      "provenance": []
    },
    "kernelspec": {
      "display_name": "Python 3",
      "name": "python3"
    },
    "language_info": {
      "codemirror_mode": {
        "name": "ipython",
        "version": 3
      },
      "file_extension": ".py",
      "mimetype": "text/x-python",
      "name": "python",
      "nbconvert_exporter": "python",
      "pygments_lexer": "ipython3",
      "version": "3.9.6"
    }
  },
  "nbformat": 4,
  "nbformat_minor": 0
}
