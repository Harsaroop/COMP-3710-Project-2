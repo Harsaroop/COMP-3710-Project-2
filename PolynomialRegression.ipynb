{
  "nbformat": 4,
  "nbformat_minor": 0,
  "metadata": {
    "colab": {
      "name": "PolynomialRegression.ipynb",
      "provenance": [],
      "collapsed_sections": [],
      "authorship_tag": "ABX9TyNP8MAx/yVkxmOOJ1vykotL",
      "include_colab_link": true
    },
    "kernelspec": {
      "name": "python3",
      "display_name": "Python 3"
    },
    "language_info": {
      "name": "python"
    }
  },
  "cells": [
    {
      "cell_type": "markdown",
      "metadata": {
        "id": "view-in-github",
        "colab_type": "text"
      },
      "source": [
        "<a href=\"https://colab.research.google.com/github/Harsaroop/COMP-3710-Project-2/blob/main/PolynomialRegression.ipynb\" target=\"_parent\"><img src=\"https://colab.research.google.com/assets/colab-badge.svg\" alt=\"Open In Colab\"/></a>"
      ]
    },
    {
      "cell_type": "code",
      "execution_count": 25,
      "metadata": {
        "id": "F31CukCRRnm8"
      },
      "outputs": [],
      "source": [
        "import numpy as np\n",
        "import pandas as pd\n",
        "import matplotlib.pyplot as plt"
      ]
    },
    {
      "cell_type": "code",
      "source": [
        "#Reading data\n",
        "df = pd.read_csv('/content/Bias_correction_ucl - Copy.csv', nrows=5000)\n",
        "data = df.round(decimals=3)"
      ],
      "metadata": {
        "id": "n3hBhafHR5h1"
      },
      "execution_count": 26,
      "outputs": []
    },
    {
      "cell_type": "code",
      "source": [
        "data.tail()"
      ],
      "metadata": {
        "colab": {
          "base_uri": "https://localhost:8080/",
          "height": 403
        },
        "id": "MJXaliAZR-Ji",
        "outputId": "a3c990d7-1f22-480b-e868-323aee69efb5"
      },
      "execution_count": 27,
      "outputs": [
        {
          "output_type": "execute_result",
          "data": {
            "text/plain": [
              "      station        Date  Present_Tmax  Present_Tmin  LDAPS_RHmin  \\\n",
              "4995       21  2016-07-13          29.4          23.8       41.974   \n",
              "4996       22  2016-07-13          30.5          23.9       47.099   \n",
              "4997       23  2016-07-13          29.9          24.2       44.952   \n",
              "4998       24  2016-07-13          29.8          23.9       42.318   \n",
              "4999       25  2016-07-13          29.7          24.1       40.501   \n",
              "\n",
              "      LDAPS_RHmax  LDAPS_Tmax_lapse  LDAPS_Tmin_lapse  LDAPS_WS  LDAPS_LH  \\\n",
              "4995       87.208            31.688            23.559     8.729    30.103   \n",
              "4996       85.528            30.620            23.963     7.511    89.966   \n",
              "4997       88.356            30.959            23.534     7.854    90.602   \n",
              "4998       86.102            31.491            23.701     8.079    47.957   \n",
              "4999       84.009            31.824            23.801     8.247    23.038   \n",
              "\n",
              "      ...  LDAPS_PPT2  LDAPS_PPT3  LDAPS_PPT4     lat      lon     DEM  Slope  \\\n",
              "4995  ...         0.0         0.0         0.0  37.551  127.040  26.298  0.572   \n",
              "4996  ...         0.0         0.0         0.0  37.510  127.086  21.967  0.133   \n",
              "4997  ...         0.0         0.0         0.0  37.537  126.891  15.588  0.155   \n",
              "4998  ...         0.0         0.0         0.0  37.524  126.909  17.296  0.222   \n",
              "4999  ...         0.0         0.0         0.0  37.524  126.970  19.584  0.271   \n",
              "\n",
              "      Solar radiation  Next_Tmax  Next_Tmin  \n",
              "4995         5731.151       31.4       23.7  \n",
              "4996         5723.706       32.3       24.5  \n",
              "4997         5722.568       33.6       24.6  \n",
              "4998         5721.034       32.6       24.4  \n",
              "4999         5726.839       32.5       23.8  \n",
              "\n",
              "[5 rows x 25 columns]"
            ],
            "text/html": [
              "\n",
              "  <div id=\"df-d73c6933-5b47-481d-8736-d9e80e2bdf60\">\n",
              "    <div class=\"colab-df-container\">\n",
              "      <div>\n",
              "<style scoped>\n",
              "    .dataframe tbody tr th:only-of-type {\n",
              "        vertical-align: middle;\n",
              "    }\n",
              "\n",
              "    .dataframe tbody tr th {\n",
              "        vertical-align: top;\n",
              "    }\n",
              "\n",
              "    .dataframe thead th {\n",
              "        text-align: right;\n",
              "    }\n",
              "</style>\n",
              "<table border=\"1\" class=\"dataframe\">\n",
              "  <thead>\n",
              "    <tr style=\"text-align: right;\">\n",
              "      <th></th>\n",
              "      <th>station</th>\n",
              "      <th>Date</th>\n",
              "      <th>Present_Tmax</th>\n",
              "      <th>Present_Tmin</th>\n",
              "      <th>LDAPS_RHmin</th>\n",
              "      <th>LDAPS_RHmax</th>\n",
              "      <th>LDAPS_Tmax_lapse</th>\n",
              "      <th>LDAPS_Tmin_lapse</th>\n",
              "      <th>LDAPS_WS</th>\n",
              "      <th>LDAPS_LH</th>\n",
              "      <th>...</th>\n",
              "      <th>LDAPS_PPT2</th>\n",
              "      <th>LDAPS_PPT3</th>\n",
              "      <th>LDAPS_PPT4</th>\n",
              "      <th>lat</th>\n",
              "      <th>lon</th>\n",
              "      <th>DEM</th>\n",
              "      <th>Slope</th>\n",
              "      <th>Solar radiation</th>\n",
              "      <th>Next_Tmax</th>\n",
              "      <th>Next_Tmin</th>\n",
              "    </tr>\n",
              "  </thead>\n",
              "  <tbody>\n",
              "    <tr>\n",
              "      <th>4995</th>\n",
              "      <td>21</td>\n",
              "      <td>2016-07-13</td>\n",
              "      <td>29.4</td>\n",
              "      <td>23.8</td>\n",
              "      <td>41.974</td>\n",
              "      <td>87.208</td>\n",
              "      <td>31.688</td>\n",
              "      <td>23.559</td>\n",
              "      <td>8.729</td>\n",
              "      <td>30.103</td>\n",
              "      <td>...</td>\n",
              "      <td>0.0</td>\n",
              "      <td>0.0</td>\n",
              "      <td>0.0</td>\n",
              "      <td>37.551</td>\n",
              "      <td>127.040</td>\n",
              "      <td>26.298</td>\n",
              "      <td>0.572</td>\n",
              "      <td>5731.151</td>\n",
              "      <td>31.4</td>\n",
              "      <td>23.7</td>\n",
              "    </tr>\n",
              "    <tr>\n",
              "      <th>4996</th>\n",
              "      <td>22</td>\n",
              "      <td>2016-07-13</td>\n",
              "      <td>30.5</td>\n",
              "      <td>23.9</td>\n",
              "      <td>47.099</td>\n",
              "      <td>85.528</td>\n",
              "      <td>30.620</td>\n",
              "      <td>23.963</td>\n",
              "      <td>7.511</td>\n",
              "      <td>89.966</td>\n",
              "      <td>...</td>\n",
              "      <td>0.0</td>\n",
              "      <td>0.0</td>\n",
              "      <td>0.0</td>\n",
              "      <td>37.510</td>\n",
              "      <td>127.086</td>\n",
              "      <td>21.967</td>\n",
              "      <td>0.133</td>\n",
              "      <td>5723.706</td>\n",
              "      <td>32.3</td>\n",
              "      <td>24.5</td>\n",
              "    </tr>\n",
              "    <tr>\n",
              "      <th>4997</th>\n",
              "      <td>23</td>\n",
              "      <td>2016-07-13</td>\n",
              "      <td>29.9</td>\n",
              "      <td>24.2</td>\n",
              "      <td>44.952</td>\n",
              "      <td>88.356</td>\n",
              "      <td>30.959</td>\n",
              "      <td>23.534</td>\n",
              "      <td>7.854</td>\n",
              "      <td>90.602</td>\n",
              "      <td>...</td>\n",
              "      <td>0.0</td>\n",
              "      <td>0.0</td>\n",
              "      <td>0.0</td>\n",
              "      <td>37.537</td>\n",
              "      <td>126.891</td>\n",
              "      <td>15.588</td>\n",
              "      <td>0.155</td>\n",
              "      <td>5722.568</td>\n",
              "      <td>33.6</td>\n",
              "      <td>24.6</td>\n",
              "    </tr>\n",
              "    <tr>\n",
              "      <th>4998</th>\n",
              "      <td>24</td>\n",
              "      <td>2016-07-13</td>\n",
              "      <td>29.8</td>\n",
              "      <td>23.9</td>\n",
              "      <td>42.318</td>\n",
              "      <td>86.102</td>\n",
              "      <td>31.491</td>\n",
              "      <td>23.701</td>\n",
              "      <td>8.079</td>\n",
              "      <td>47.957</td>\n",
              "      <td>...</td>\n",
              "      <td>0.0</td>\n",
              "      <td>0.0</td>\n",
              "      <td>0.0</td>\n",
              "      <td>37.524</td>\n",
              "      <td>126.909</td>\n",
              "      <td>17.296</td>\n",
              "      <td>0.222</td>\n",
              "      <td>5721.034</td>\n",
              "      <td>32.6</td>\n",
              "      <td>24.4</td>\n",
              "    </tr>\n",
              "    <tr>\n",
              "      <th>4999</th>\n",
              "      <td>25</td>\n",
              "      <td>2016-07-13</td>\n",
              "      <td>29.7</td>\n",
              "      <td>24.1</td>\n",
              "      <td>40.501</td>\n",
              "      <td>84.009</td>\n",
              "      <td>31.824</td>\n",
              "      <td>23.801</td>\n",
              "      <td>8.247</td>\n",
              "      <td>23.038</td>\n",
              "      <td>...</td>\n",
              "      <td>0.0</td>\n",
              "      <td>0.0</td>\n",
              "      <td>0.0</td>\n",
              "      <td>37.524</td>\n",
              "      <td>126.970</td>\n",
              "      <td>19.584</td>\n",
              "      <td>0.271</td>\n",
              "      <td>5726.839</td>\n",
              "      <td>32.5</td>\n",
              "      <td>23.8</td>\n",
              "    </tr>\n",
              "  </tbody>\n",
              "</table>\n",
              "<p>5 rows × 25 columns</p>\n",
              "</div>\n",
              "      <button class=\"colab-df-convert\" onclick=\"convertToInteractive('df-d73c6933-5b47-481d-8736-d9e80e2bdf60')\"\n",
              "              title=\"Convert this dataframe to an interactive table.\"\n",
              "              style=\"display:none;\">\n",
              "        \n",
              "  <svg xmlns=\"http://www.w3.org/2000/svg\" height=\"24px\"viewBox=\"0 0 24 24\"\n",
              "       width=\"24px\">\n",
              "    <path d=\"M0 0h24v24H0V0z\" fill=\"none\"/>\n",
              "    <path d=\"M18.56 5.44l.94 2.06.94-2.06 2.06-.94-2.06-.94-.94-2.06-.94 2.06-2.06.94zm-11 1L8.5 8.5l.94-2.06 2.06-.94-2.06-.94L8.5 2.5l-.94 2.06-2.06.94zm10 10l.94 2.06.94-2.06 2.06-.94-2.06-.94-.94-2.06-.94 2.06-2.06.94z\"/><path d=\"M17.41 7.96l-1.37-1.37c-.4-.4-.92-.59-1.43-.59-.52 0-1.04.2-1.43.59L10.3 9.45l-7.72 7.72c-.78.78-.78 2.05 0 2.83L4 21.41c.39.39.9.59 1.41.59.51 0 1.02-.2 1.41-.59l7.78-7.78 2.81-2.81c.8-.78.8-2.07 0-2.86zM5.41 20L4 18.59l7.72-7.72 1.47 1.35L5.41 20z\"/>\n",
              "  </svg>\n",
              "      </button>\n",
              "      \n",
              "  <style>\n",
              "    .colab-df-container {\n",
              "      display:flex;\n",
              "      flex-wrap:wrap;\n",
              "      gap: 12px;\n",
              "    }\n",
              "\n",
              "    .colab-df-convert {\n",
              "      background-color: #E8F0FE;\n",
              "      border: none;\n",
              "      border-radius: 50%;\n",
              "      cursor: pointer;\n",
              "      display: none;\n",
              "      fill: #1967D2;\n",
              "      height: 32px;\n",
              "      padding: 0 0 0 0;\n",
              "      width: 32px;\n",
              "    }\n",
              "\n",
              "    .colab-df-convert:hover {\n",
              "      background-color: #E2EBFA;\n",
              "      box-shadow: 0px 1px 2px rgba(60, 64, 67, 0.3), 0px 1px 3px 1px rgba(60, 64, 67, 0.15);\n",
              "      fill: #174EA6;\n",
              "    }\n",
              "\n",
              "    [theme=dark] .colab-df-convert {\n",
              "      background-color: #3B4455;\n",
              "      fill: #D2E3FC;\n",
              "    }\n",
              "\n",
              "    [theme=dark] .colab-df-convert:hover {\n",
              "      background-color: #434B5C;\n",
              "      box-shadow: 0px 1px 3px 1px rgba(0, 0, 0, 0.15);\n",
              "      filter: drop-shadow(0px 1px 2px rgba(0, 0, 0, 0.3));\n",
              "      fill: #FFFFFF;\n",
              "    }\n",
              "  </style>\n",
              "\n",
              "      <script>\n",
              "        const buttonEl =\n",
              "          document.querySelector('#df-d73c6933-5b47-481d-8736-d9e80e2bdf60 button.colab-df-convert');\n",
              "        buttonEl.style.display =\n",
              "          google.colab.kernel.accessAllowed ? 'block' : 'none';\n",
              "\n",
              "        async function convertToInteractive(key) {\n",
              "          const element = document.querySelector('#df-d73c6933-5b47-481d-8736-d9e80e2bdf60');\n",
              "          const dataTable =\n",
              "            await google.colab.kernel.invokeFunction('convertToInteractive',\n",
              "                                                     [key], {});\n",
              "          if (!dataTable) return;\n",
              "\n",
              "          const docLinkHtml = 'Like what you see? Visit the ' +\n",
              "            '<a target=\"_blank\" href=https://colab.research.google.com/notebooks/data_table.ipynb>data table notebook</a>'\n",
              "            + ' to learn more about interactive tables.';\n",
              "          element.innerHTML = '';\n",
              "          dataTable['output_type'] = 'display_data';\n",
              "          await google.colab.output.renderOutput(dataTable, element);\n",
              "          const docLink = document.createElement('div');\n",
              "          docLink.innerHTML = docLinkHtml;\n",
              "          element.appendChild(docLink);\n",
              "        }\n",
              "      </script>\n",
              "    </div>\n",
              "  </div>\n",
              "  "
            ]
          },
          "metadata": {},
          "execution_count": 27
        }
      ]
    },
    {
      "cell_type": "code",
      "source": [
        "df1 = pd.DataFrame()\n",
        "df1['Present_Tmax'], df1['Present_Tmin'] = data['Present_Tmax'], data['Present_Tmin']\n",
        "df1.tail()"
      ],
      "metadata": {
        "colab": {
          "base_uri": "https://localhost:8080/",
          "height": 206
        },
        "id": "Kg_a71VkSDV6",
        "outputId": "10ed9c00-fee7-4a48-8422-10eac0aece91"
      },
      "execution_count": 33,
      "outputs": [
        {
          "output_type": "execute_result",
          "data": {
            "text/plain": [
              "      Present_Tmax  Present_Tmin\n",
              "4995          29.4          23.8\n",
              "4996          30.5          23.9\n",
              "4997          29.9          24.2\n",
              "4998          29.8          23.9\n",
              "4999          29.7          24.1"
            ],
            "text/html": [
              "\n",
              "  <div id=\"df-c0154998-23bd-4d88-9a86-af9358e77dfd\">\n",
              "    <div class=\"colab-df-container\">\n",
              "      <div>\n",
              "<style scoped>\n",
              "    .dataframe tbody tr th:only-of-type {\n",
              "        vertical-align: middle;\n",
              "    }\n",
              "\n",
              "    .dataframe tbody tr th {\n",
              "        vertical-align: top;\n",
              "    }\n",
              "\n",
              "    .dataframe thead th {\n",
              "        text-align: right;\n",
              "    }\n",
              "</style>\n",
              "<table border=\"1\" class=\"dataframe\">\n",
              "  <thead>\n",
              "    <tr style=\"text-align: right;\">\n",
              "      <th></th>\n",
              "      <th>Present_Tmax</th>\n",
              "      <th>Present_Tmin</th>\n",
              "    </tr>\n",
              "  </thead>\n",
              "  <tbody>\n",
              "    <tr>\n",
              "      <th>4995</th>\n",
              "      <td>29.4</td>\n",
              "      <td>23.8</td>\n",
              "    </tr>\n",
              "    <tr>\n",
              "      <th>4996</th>\n",
              "      <td>30.5</td>\n",
              "      <td>23.9</td>\n",
              "    </tr>\n",
              "    <tr>\n",
              "      <th>4997</th>\n",
              "      <td>29.9</td>\n",
              "      <td>24.2</td>\n",
              "    </tr>\n",
              "    <tr>\n",
              "      <th>4998</th>\n",
              "      <td>29.8</td>\n",
              "      <td>23.9</td>\n",
              "    </tr>\n",
              "    <tr>\n",
              "      <th>4999</th>\n",
              "      <td>29.7</td>\n",
              "      <td>24.1</td>\n",
              "    </tr>\n",
              "  </tbody>\n",
              "</table>\n",
              "</div>\n",
              "      <button class=\"colab-df-convert\" onclick=\"convertToInteractive('df-c0154998-23bd-4d88-9a86-af9358e77dfd')\"\n",
              "              title=\"Convert this dataframe to an interactive table.\"\n",
              "              style=\"display:none;\">\n",
              "        \n",
              "  <svg xmlns=\"http://www.w3.org/2000/svg\" height=\"24px\"viewBox=\"0 0 24 24\"\n",
              "       width=\"24px\">\n",
              "    <path d=\"M0 0h24v24H0V0z\" fill=\"none\"/>\n",
              "    <path d=\"M18.56 5.44l.94 2.06.94-2.06 2.06-.94-2.06-.94-.94-2.06-.94 2.06-2.06.94zm-11 1L8.5 8.5l.94-2.06 2.06-.94-2.06-.94L8.5 2.5l-.94 2.06-2.06.94zm10 10l.94 2.06.94-2.06 2.06-.94-2.06-.94-.94-2.06-.94 2.06-2.06.94z\"/><path d=\"M17.41 7.96l-1.37-1.37c-.4-.4-.92-.59-1.43-.59-.52 0-1.04.2-1.43.59L10.3 9.45l-7.72 7.72c-.78.78-.78 2.05 0 2.83L4 21.41c.39.39.9.59 1.41.59.51 0 1.02-.2 1.41-.59l7.78-7.78 2.81-2.81c.8-.78.8-2.07 0-2.86zM5.41 20L4 18.59l7.72-7.72 1.47 1.35L5.41 20z\"/>\n",
              "  </svg>\n",
              "      </button>\n",
              "      \n",
              "  <style>\n",
              "    .colab-df-container {\n",
              "      display:flex;\n",
              "      flex-wrap:wrap;\n",
              "      gap: 12px;\n",
              "    }\n",
              "\n",
              "    .colab-df-convert {\n",
              "      background-color: #E8F0FE;\n",
              "      border: none;\n",
              "      border-radius: 50%;\n",
              "      cursor: pointer;\n",
              "      display: none;\n",
              "      fill: #1967D2;\n",
              "      height: 32px;\n",
              "      padding: 0 0 0 0;\n",
              "      width: 32px;\n",
              "    }\n",
              "\n",
              "    .colab-df-convert:hover {\n",
              "      background-color: #E2EBFA;\n",
              "      box-shadow: 0px 1px 2px rgba(60, 64, 67, 0.3), 0px 1px 3px 1px rgba(60, 64, 67, 0.15);\n",
              "      fill: #174EA6;\n",
              "    }\n",
              "\n",
              "    [theme=dark] .colab-df-convert {\n",
              "      background-color: #3B4455;\n",
              "      fill: #D2E3FC;\n",
              "    }\n",
              "\n",
              "    [theme=dark] .colab-df-convert:hover {\n",
              "      background-color: #434B5C;\n",
              "      box-shadow: 0px 1px 3px 1px rgba(0, 0, 0, 0.15);\n",
              "      filter: drop-shadow(0px 1px 2px rgba(0, 0, 0, 0.3));\n",
              "      fill: #FFFFFF;\n",
              "    }\n",
              "  </style>\n",
              "\n",
              "      <script>\n",
              "        const buttonEl =\n",
              "          document.querySelector('#df-c0154998-23bd-4d88-9a86-af9358e77dfd button.colab-df-convert');\n",
              "        buttonEl.style.display =\n",
              "          google.colab.kernel.accessAllowed ? 'block' : 'none';\n",
              "\n",
              "        async function convertToInteractive(key) {\n",
              "          const element = document.querySelector('#df-c0154998-23bd-4d88-9a86-af9358e77dfd');\n",
              "          const dataTable =\n",
              "            await google.colab.kernel.invokeFunction('convertToInteractive',\n",
              "                                                     [key], {});\n",
              "          if (!dataTable) return;\n",
              "\n",
              "          const docLinkHtml = 'Like what you see? Visit the ' +\n",
              "            '<a target=\"_blank\" href=https://colab.research.google.com/notebooks/data_table.ipynb>data table notebook</a>'\n",
              "            + ' to learn more about interactive tables.';\n",
              "          element.innerHTML = '';\n",
              "          dataTable['output_type'] = 'display_data';\n",
              "          await google.colab.output.renderOutput(dataTable, element);\n",
              "          const docLink = document.createElement('div');\n",
              "          docLink.innerHTML = docLinkHtml;\n",
              "          element.appendChild(docLink);\n",
              "        }\n",
              "      </script>\n",
              "    </div>\n",
              "  </div>\n",
              "  "
            ]
          },
          "metadata": {},
          "execution_count": 33
        }
      ]
    },
    {
      "cell_type": "code",
      "source": [
        "X = data[['station',  'Present_Tmin', 'LDAPS_RHmin','LDAPS_RHmax', 'LDAPS_Tmax_lapse', 'LDAPS_Tmin_lapse', 'LDAPS_WS','LDAPS_LH', 'LDAPS_CC1', 'LDAPS_CC2', 'LDAPS_CC3', 'LDAPS_CC4','LDAPS_PPT1', 'LDAPS_PPT2', 'LDAPS_PPT3', 'LDAPS_PPT4', 'lat', 'lon','DEM', 'Slope', 'Next_Tmax', 'Next_Tmin']].values\n",
        "y = data['Present_Tmax'].values"
      ],
      "metadata": {
        "id": "oRcHsv5ib0mo"
      },
      "execution_count": 45,
      "outputs": []
    },
    {
      "cell_type": "code",
      "source": [
        "#Slipting train and test data\n",
        "from sklearn.model_selection import train_test_split\n",
        "from sklearn.preprocessing import PolynomialFeatures\n",
        "\n",
        "X_train, X_test, y_train, y_test = train_test_split(df1['Present_Tmax'], df1['Present_Tmin'])\n",
        "X_train_df , X_test_df = pd.DataFrame(X_train), pd.DataFrame(X_test)\n",
        "\n",
        "poly = PolynomialFeatures(degree=2)\n",
        "X_train_poly, X_test_poly = poly.fit_transform(X_train_df), poly.fit_transform(X_test_df)"
      ],
      "metadata": {
        "id": "DYzrnIJqUcNM"
      },
      "execution_count": 52,
      "outputs": []
    },
    {
      "cell_type": "code",
      "source": [
        "X_train"
      ],
      "metadata": {
        "colab": {
          "base_uri": "https://localhost:8080/"
        },
        "id": "NdCtIm-5UcWr",
        "outputId": "f742aa55-dde1-458f-8fbb-518d6bcb331b"
      },
      "execution_count": 53,
      "outputs": [
        {
          "output_type": "execute_result",
          "data": {
            "text/plain": [
              "3099    30.2\n",
              "458     28.8\n",
              "1648    25.3\n",
              "3836    27.6\n",
              "931     27.7\n",
              "        ... \n",
              "304     25.0\n",
              "4948    33.1\n",
              "4602    28.9\n",
              "4438    29.1\n",
              "148     31.1\n",
              "Name: Present_Tmax, Length: 3750, dtype: float64"
            ]
          },
          "metadata": {},
          "execution_count": 53
        }
      ]
    },
    {
      "cell_type": "code",
      "source": [
        "from sklearn import linear_model\n",
        "\n",
        "model = linear_model.LinearRegression()\n",
        "model = model.fit(X_train_poly, y_train)\n",
        "coefficient = model.coef_\n",
        "intercept = model.intercept_\n"
      ],
      "metadata": {
        "id": "4myblpvXUcec"
      },
      "execution_count": 54,
      "outputs": []
    },
    {
      "cell_type": "code",
      "source": [
        "#Plotting graph\n",
        "\n",
        "x_axis = np.arange(5,50,0.1)\n",
        "response = intercept + coefficient[1] * x_axis + coefficient[2] * x_axis**2 \n",
        "plt.scatter(df1['Present_Tmax'], df1['Present_Tmin'], color='b')\n",
        "plt.plot(x_axis, response, color = 'r')\n",
        "plt.show()"
      ],
      "metadata": {
        "colab": {
          "base_uri": "https://localhost:8080/",
          "height": 265
        },
        "id": "fwi4s1bHUcf0",
        "outputId": "5f34b03c-40c2-4e08-a2a6-d5f4e0c131fd"
      },
      "execution_count": 56,
      "outputs": [
        {
          "output_type": "display_data",
          "data": {
            "text/plain": [
              "<Figure size 432x288 with 1 Axes>"
            ],
            "image/png": "[encoded data removed]"
          },
          "metadata": {
            "needs_background": "light"
          }
        }
      ]
    },
    {
      "cell_type": "code",
      "source": [
        "from sklearn.metrics import r2_score\n",
        "\n",
        "prediction = model.predict(X_test_poly)\n",
        "r2_score(prediction, y_test)"
      ],
      "metadata": {
        "colab": {
          "base_uri": "https://localhost:8080/"
        },
        "id": "k3YrxX-faPnP",
        "outputId": "4300a509-0a53-4690-c497-e58b914cbe0c"
      },
      "execution_count": 49,
      "outputs": [
        {
          "output_type": "execute_result",
          "data": {
            "text/plain": [
              "0.7530194058591414"
            ]
          },
          "metadata": {},
          "execution_count": 49
        }
      ]
    }
  ]
}