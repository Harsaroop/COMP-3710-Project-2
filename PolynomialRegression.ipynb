{
  "cells": [
    {
      "cell_type": "markdown",
      "metadata": {
        "colab_type": "text",
        "id": "view-in-github"
      },
      "source": [
        "<a href=\"https://colab.research.google.com/github/Harsaroop/COMP-3710-Project-2/blob/main/PolynomialRegression.ipynb\" target=\"_parent\"><img src=\"https://colab.research.google.com/assets/colab-badge.svg\" alt=\"Open In Colab\"/></a>"
      ]
    },
    {
      "cell_type": "code",
      "execution_count": 11,
      "metadata": {
        "id": "F31CukCRRnm8"
      },
      "outputs": [],
      "source": [
        "import numpy as np\n",
        "import pandas as pd\n",
        "import matplotlib.pyplot as plt"
      ]
    },
    {
      "cell_type": "code",
      "execution_count": 12,
      "metadata": {
        "id": "n3hBhafHR5h1"
      },
      "outputs": [],
      "source": [
        "#Reading data\n",
        "df = pd.read_csv('Bias_correction_ucl - Copy.csv', nrows=5000)\n",
        "data = df.round(decimals=3)"
      ]
    },
    {
      "cell_type": "code",
      "execution_count": 13,
      "metadata": {
        "colab": {
          "base_uri": "https://localhost:8080/",
          "height": 403
        },
        "id": "MJXaliAZR-Ji",
        "outputId": "7df6f73d-1210-4839-dba8-679fac6542f2"
      },
      "outputs": [
        {
          "data": {
            "text/html": [
              "<div>\n",
              "<style scoped>\n",
              "    .dataframe tbody tr th:only-of-type {\n",
              "        vertical-align: middle;\n",
              "    }\n",
              "\n",
              "    .dataframe tbody tr th {\n",
              "        vertical-align: top;\n",
              "    }\n",
              "\n",
              "    .dataframe thead th {\n",
              "        text-align: right;\n",
              "    }\n",
              "</style>\n",
              "<table border=\"1\" class=\"dataframe\">\n",
              "  <thead>\n",
              "    <tr style=\"text-align: right;\">\n",
              "      <th></th>\n",
              "      <th>station</th>\n",
              "      <th>Date</th>\n",
              "      <th>Present_Tmax</th>\n",
              "      <th>Present_Tmin</th>\n",
              "      <th>LDAPS_RHmin</th>\n",
              "      <th>LDAPS_RHmax</th>\n",
              "      <th>LDAPS_Tmax_lapse</th>\n",
              "      <th>LDAPS_Tmin_lapse</th>\n",
              "      <th>LDAPS_WS</th>\n",
              "      <th>LDAPS_LH</th>\n",
              "      <th>...</th>\n",
              "      <th>LDAPS_PPT2</th>\n",
              "      <th>LDAPS_PPT3</th>\n",
              "      <th>LDAPS_PPT4</th>\n",
              "      <th>lat</th>\n",
              "      <th>lon</th>\n",
              "      <th>DEM</th>\n",
              "      <th>Slope</th>\n",
              "      <th>Solar radiation</th>\n",
              "      <th>Next_Tmax</th>\n",
              "      <th>Next_Tmin</th>\n",
              "    </tr>\n",
              "  </thead>\n",
              "  <tbody>\n",
              "    <tr>\n",
              "      <th>4995</th>\n",
              "      <td>21</td>\n",
              "      <td>2016-07-13</td>\n",
              "      <td>29.4</td>\n",
              "      <td>23.8</td>\n",
              "      <td>41.974</td>\n",
              "      <td>87.208</td>\n",
              "      <td>31.688</td>\n",
              "      <td>23.559</td>\n",
              "      <td>8.729</td>\n",
              "      <td>30.103</td>\n",
              "      <td>...</td>\n",
              "      <td>0.0</td>\n",
              "      <td>0.0</td>\n",
              "      <td>0.0</td>\n",
              "      <td>37.551</td>\n",
              "      <td>127.040</td>\n",
              "      <td>26.298</td>\n",
              "      <td>0.572</td>\n",
              "      <td>5731.151</td>\n",
              "      <td>31.4</td>\n",
              "      <td>23.7</td>\n",
              "    </tr>\n",
              "    <tr>\n",
              "      <th>4996</th>\n",
              "      <td>22</td>\n",
              "      <td>2016-07-13</td>\n",
              "      <td>30.5</td>\n",
              "      <td>23.9</td>\n",
              "      <td>47.099</td>\n",
              "      <td>85.528</td>\n",
              "      <td>30.620</td>\n",
              "      <td>23.963</td>\n",
              "      <td>7.511</td>\n",
              "      <td>89.966</td>\n",
              "      <td>...</td>\n",
              "      <td>0.0</td>\n",
              "      <td>0.0</td>\n",
              "      <td>0.0</td>\n",
              "      <td>37.510</td>\n",
              "      <td>127.086</td>\n",
              "      <td>21.967</td>\n",
              "      <td>0.133</td>\n",
              "      <td>5723.706</td>\n",
              "      <td>32.3</td>\n",
              "      <td>24.5</td>\n",
              "    </tr>\n",
              "    <tr>\n",
              "      <th>4997</th>\n",
              "      <td>23</td>\n",
              "      <td>2016-07-13</td>\n",
              "      <td>29.9</td>\n",
              "      <td>24.2</td>\n",
              "      <td>44.952</td>\n",
              "      <td>88.356</td>\n",
              "      <td>30.959</td>\n",
              "      <td>23.534</td>\n",
              "      <td>7.854</td>\n",
              "      <td>90.602</td>\n",
              "      <td>...</td>\n",
              "      <td>0.0</td>\n",
              "      <td>0.0</td>\n",
              "      <td>0.0</td>\n",
              "      <td>37.537</td>\n",
              "      <td>126.891</td>\n",
              "      <td>15.588</td>\n",
              "      <td>0.155</td>\n",
              "      <td>5722.568</td>\n",
              "      <td>33.6</td>\n",
              "      <td>24.6</td>\n",
              "    </tr>\n",
              "    <tr>\n",
              "      <th>4998</th>\n",
              "      <td>24</td>\n",
              "      <td>2016-07-13</td>\n",
              "      <td>29.8</td>\n",
              "      <td>23.9</td>\n",
              "      <td>42.318</td>\n",
              "      <td>86.102</td>\n",
              "      <td>31.491</td>\n",
              "      <td>23.701</td>\n",
              "      <td>8.079</td>\n",
              "      <td>47.957</td>\n",
              "      <td>...</td>\n",
              "      <td>0.0</td>\n",
              "      <td>0.0</td>\n",
              "      <td>0.0</td>\n",
              "      <td>37.524</td>\n",
              "      <td>126.909</td>\n",
              "      <td>17.296</td>\n",
              "      <td>0.222</td>\n",
              "      <td>5721.034</td>\n",
              "      <td>32.6</td>\n",
              "      <td>24.4</td>\n",
              "    </tr>\n",
              "    <tr>\n",
              "      <th>4999</th>\n",
              "      <td>25</td>\n",
              "      <td>2016-07-13</td>\n",
              "      <td>29.7</td>\n",
              "      <td>24.1</td>\n",
              "      <td>40.501</td>\n",
              "      <td>84.009</td>\n",
              "      <td>31.824</td>\n",
              "      <td>23.801</td>\n",
              "      <td>8.247</td>\n",
              "      <td>23.038</td>\n",
              "      <td>...</td>\n",
              "      <td>0.0</td>\n",
              "      <td>0.0</td>\n",
              "      <td>0.0</td>\n",
              "      <td>37.524</td>\n",
              "      <td>126.970</td>\n",
              "      <td>19.584</td>\n",
              "      <td>0.271</td>\n",
              "      <td>5726.839</td>\n",
              "      <td>32.5</td>\n",
              "      <td>23.8</td>\n",
              "    </tr>\n",
              "  </tbody>\n",
              "</table>\n",
              "<p>5 rows × 25 columns</p>\n",
              "</div>"
            ],
            "text/plain": [
              "      station        Date  Present_Tmax  Present_Tmin  LDAPS_RHmin  \\\n",
              "4995       21  2016-07-13          29.4          23.8       41.974   \n",
              "4996       22  2016-07-13          30.5          23.9       47.099   \n",
              "4997       23  2016-07-13          29.9          24.2       44.952   \n",
              "4998       24  2016-07-13          29.8          23.9       42.318   \n",
              "4999       25  2016-07-13          29.7          24.1       40.501   \n",
              "\n",
              "      LDAPS_RHmax  LDAPS_Tmax_lapse  LDAPS_Tmin_lapse  LDAPS_WS  LDAPS_LH  \\\n",
              "4995       87.208            31.688            23.559     8.729    30.103   \n",
              "4996       85.528            30.620            23.963     7.511    89.966   \n",
              "4997       88.356            30.959            23.534     7.854    90.602   \n",
              "4998       86.102            31.491            23.701     8.079    47.957   \n",
              "4999       84.009            31.824            23.801     8.247    23.038   \n",
              "\n",
              "      ...  LDAPS_PPT2  LDAPS_PPT3  LDAPS_PPT4     lat      lon     DEM  Slope  \\\n",
              "4995  ...         0.0         0.0         0.0  37.551  127.040  26.298  0.572   \n",
              "4996  ...         0.0         0.0         0.0  37.510  127.086  21.967  0.133   \n",
              "4997  ...         0.0         0.0         0.0  37.537  126.891  15.588  0.155   \n",
              "4998  ...         0.0         0.0         0.0  37.524  126.909  17.296  0.222   \n",
              "4999  ...         0.0         0.0         0.0  37.524  126.970  19.584  0.271   \n",
              "\n",
              "      Solar radiation  Next_Tmax  Next_Tmin  \n",
              "4995         5731.151       31.4       23.7  \n",
              "4996         5723.706       32.3       24.5  \n",
              "4997         5722.568       33.6       24.6  \n",
              "4998         5721.034       32.6       24.4  \n",
              "4999         5726.839       32.5       23.8  \n",
              "\n",
              "[5 rows x 25 columns]"
            ]
          },
          "execution_count": 13,
          "metadata": {},
          "output_type": "execute_result"
        }
      ],
      "source": [
        "data.tail()"
      ]
    },
    {
      "cell_type": "code",
      "execution_count": 14,
      "metadata": {
        "colab": {
          "base_uri": "https://localhost:8080/",
          "height": 206
        },
        "id": "Kg_a71VkSDV6",
        "outputId": "b4615cf7-1c1c-480e-ae8d-8029101b30d0"
      },
      "outputs": [
        {
          "data": {
            "text/html": [
              "<div>\n",
              "<style scoped>\n",
              "    .dataframe tbody tr th:only-of-type {\n",
              "        vertical-align: middle;\n",
              "    }\n",
              "\n",
              "    .dataframe tbody tr th {\n",
              "        vertical-align: top;\n",
              "    }\n",
              "\n",
              "    .dataframe thead th {\n",
              "        text-align: right;\n",
              "    }\n",
              "</style>\n",
              "<table border=\"1\" class=\"dataframe\">\n",
              "  <thead>\n",
              "    <tr style=\"text-align: right;\">\n",
              "      <th></th>\n",
              "      <th>Present_Tmax</th>\n",
              "      <th>Next_Tmax</th>\n",
              "    </tr>\n",
              "  </thead>\n",
              "  <tbody>\n",
              "    <tr>\n",
              "      <th>4995</th>\n",
              "      <td>29.4</td>\n",
              "      <td>31.4</td>\n",
              "    </tr>\n",
              "    <tr>\n",
              "      <th>4996</th>\n",
              "      <td>30.5</td>\n",
              "      <td>32.3</td>\n",
              "    </tr>\n",
              "    <tr>\n",
              "      <th>4997</th>\n",
              "      <td>29.9</td>\n",
              "      <td>33.6</td>\n",
              "    </tr>\n",
              "    <tr>\n",
              "      <th>4998</th>\n",
              "      <td>29.8</td>\n",
              "      <td>32.6</td>\n",
              "    </tr>\n",
              "    <tr>\n",
              "      <th>4999</th>\n",
              "      <td>29.7</td>\n",
              "      <td>32.5</td>\n",
              "    </tr>\n",
              "  </tbody>\n",
              "</table>\n",
              "</div>"
            ],
            "text/plain": [
              "      Present_Tmax  Next_Tmax\n",
              "4995          29.4       31.4\n",
              "4996          30.5       32.3\n",
              "4997          29.9       33.6\n",
              "4998          29.8       32.6\n",
              "4999          29.7       32.5"
            ]
          },
          "execution_count": 14,
          "metadata": {},
          "output_type": "execute_result"
        }
      ],
      "source": [
        "df1 = pd.DataFrame()\n",
        "df1['Present_Tmax'], df1['Next_Tmax'] = data['Present_Tmax'], data['Next_Tmax']\n",
        "df1.tail()"
      ]
    },
    {
      "cell_type": "code",
      "execution_count": 15,
      "metadata": {
        "id": "oRcHsv5ib0mo"
      },
      "outputs": [],
      "source": [
        "X = data[['station',  'Present_Tmin', 'LDAPS_RHmin','LDAPS_RHmax', 'LDAPS_Tmax_lapse', 'LDAPS_Tmin_lapse', 'LDAPS_WS','LDAPS_LH', 'LDAPS_CC1', 'LDAPS_CC2', 'LDAPS_CC3', 'LDAPS_CC4','LDAPS_PPT1', 'LDAPS_PPT2', 'LDAPS_PPT3', 'LDAPS_PPT4', 'lat', 'lon','DEM', 'Slope', 'Next_Tmax', 'Next_Tmin']].values\n",
        "y = data['Present_Tmax'].values"
      ]
    },
    {
      "cell_type": "code",
      "execution_count": 16,
      "metadata": {
        "id": "DYzrnIJqUcNM"
      },
      "outputs": [],
      "source": [
        "#Slipting train and test data\n",
        "from sklearn.model_selection import train_test_split\n",
        "from sklearn.preprocessing import PolynomialFeatures\n",
        "\n",
        "X_train, X_test, y_train, y_test = train_test_split(df1['Present_Tmax'], df1['Next_Tmax'])\n",
        "X_train_df , X_test_df = pd.DataFrame(X_train), pd.DataFrame(X_test)\n",
        "\n",
        "poly = PolynomialFeatures(degree=2)\n",
        "X_train_poly, X_test_poly = poly.fit_transform(X_train_df), poly.fit_transform(X_test_df)"
      ]
    },
    {
      "cell_type": "code",
      "execution_count": 17,
      "metadata": {
        "colab": {
          "base_uri": "https://localhost:8080/"
        },
        "id": "NdCtIm-5UcWr",
        "outputId": "8fb320ca-3fed-43dd-f1d5-1e6e270f3102"
      },
      "outputs": [
        {
          "data": {
            "text/plain": [
              "1540    27.9\n",
              "3186    27.9\n",
              "4712    27.8\n",
              "4117    31.5\n",
              "2176    32.6\n",
              "        ... \n",
              "4284    30.7\n",
              "4421    29.1\n",
              "4989    29.0\n",
              "1170    32.1\n",
              "2490     0.0\n",
              "Name: Present_Tmax, Length: 3750, dtype: float64"
            ]
          },
          "execution_count": 17,
          "metadata": {},
          "output_type": "execute_result"
        }
      ],
      "source": [
        "X_train"
      ]
    },
    {
      "cell_type": "code",
      "execution_count": 18,
      "metadata": {
        "id": "4myblpvXUcec"
      },
      "outputs": [],
      "source": [
        "from sklearn import linear_model\n",
        "\n",
        "model = linear_model.LinearRegression()\n",
        "model = model.fit(X_train_poly, y_train)\n",
        "coefficient = model.coef_\n",
        "intercept = model.intercept_\n"
      ]
    },
    {
      "cell_type": "code",
      "execution_count": 19,
      "metadata": {
        "colab": {
          "base_uri": "https://localhost:8080/",
          "height": 265
        },
        "id": "fwi4s1bHUcf0",
        "outputId": "0004b09f-bfb0-4fcf-a8ce-731f1b3342a0"
      },
      "outputs": [
        {
          "data": {
            "image/png": "[encoded data removed]",
            "text/plain": [
              "<Figure size 432x288 with 1 Axes>"
            ]
          },
          "metadata": {
            "needs_background": "light"
          },
          "output_type": "display_data"
        }
      ],
      "source": [
        "#Plotting graph\n",
        "\n",
        "x_axis = np.arange(5,50,0.1)\n",
        "response = intercept + coefficient[1] * x_axis + coefficient[2] * x_axis**2 \n",
        "plt.scatter(df1['Present_Tmax'], df1['Next_Tmax'], color='b')\n",
        "plt.plot(x_axis, response, color = 'r')\n",
        "plt.show()"
      ]
    },
    {
      "cell_type": "code",
      "execution_count": 20,
      "metadata": {
        "colab": {
          "base_uri": "https://localhost:8080/"
        },
        "id": "k3YrxX-faPnP",
        "outputId": "ac0415b5-acd0-42fe-b21b-457876e96808"
      },
      "outputs": [
        {
          "data": {
            "text/plain": [
              "-2.575030766640409"
            ]
          },
          "execution_count": 20,
          "metadata": {},
          "output_type": "execute_result"
        }
      ],
      "source": [
        "from sklearn.metrics import r2_score\n",
        "\n",
        "prediction = model.predict(X_test_poly)\n",
        "r2_score(prediction, y_test)"
      ]
    }
  ],
  "metadata": {
    "colab": {
      "authorship_tag": "ABX9TyNR6/5iIHkmhT0ZHRN+Udk4",
      "collapsed_sections": [],
      "include_colab_link": true,
      "name": "PolynomialRegression.ipynb",
      "provenance": []
    },
    "kernelspec": {
      "display_name": "Python 3",
      "name": "python3"
    },
    "language_info": {
      "codemirror_mode": {
        "name": "ipython",
        "version": 3
      },
      "file_extension": ".py",
      "mimetype": "text/x-python",
      "name": "python",
      "nbconvert_exporter": "python",
      "pygments_lexer": "ipython3",
      "version": "3.9.6"
    }
  },
  "nbformat": 4,
  "nbformat_minor": 0
}
