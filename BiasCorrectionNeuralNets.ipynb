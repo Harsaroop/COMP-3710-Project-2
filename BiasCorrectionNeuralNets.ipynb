{
  "nbformat": 4,
  "nbformat_minor": 0,
  "metadata": {
    "colab": {
      "name": "BiasCorrectionNeuralNets.ipynb",
      "provenance": [],
      "authorship_tag": "ABX9TyNdcHKZ9hZ6CPIG3N1m7Gcs",
      "include_colab_link": true
    },
    "kernelspec": {
      "name": "python3",
      "display_name": "Python 3"
    },
    "language_info": {
      "name": "python"
    }
  },
  "cells": [
    {
      "cell_type": "markdown",
      "metadata": {
        "id": "view-in-github",
        "colab_type": "text"
      },
      "source": [
        "<a href=\"https://colab.research.google.com/github/Harsaroop/COMP-3710-Project-2/blob/main/BiasCorrectionNeuralNets.ipynb\" target=\"_parent\"><img src=\"https://colab.research.google.com/assets/colab-badge.svg\" alt=\"Open In Colab\"/></a>"
      ]
    },
    {
      "cell_type": "code",
      "execution_count": null,
      "metadata": {
        "id": "SKz0nBgy2U4y"
      },
      "outputs": [],
      "source": [
        ""
      ]
    }
  ]
}